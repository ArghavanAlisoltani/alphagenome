{
  "cells": [
    {
      "cell_type": "markdown",
      "metadata": {
        "id": "_"
      },
      "source": [
        "# Quick start"
      ]
    },
    {
      "cell_type": "markdown",
      "metadata": {
        "id": "on5cvb0VoK_D"
      },
      "source": [
        "Welcome to the quick start guide for AlphaGenome! The goal of this tutorial notebook is to quickly get you started with using the model and making predictions."
      ]
    },
    {
      "cell_type": "markdown",
      "metadata": {
        "id": "XNBquB49Nk6W"
      },
      "source": [
        "```{tip}\n",
        "Open this tutorial in Google colab for interactive viewing.\n",
        "```"
      ]
    },
    {
      "cell_type": "code",
      "execution_count": 1,
      "metadata": {
        "cellView": "form",
        "executionInfo": {
          "elapsed": 54,
          "status": "ok",
          "timestamp": 1753109223662,
          "user": {
            "displayName": "",
            "userId": ""
          },
          "user_tz": -60
        },
        "id": "W28j15ApoK_D",
        "language": "python"
      },
      "outputs": [],
      "source": [
        "# @title Install AlphaGenome\n",
        "\n",
        "# @markdown Run this cell to install AlphaGenome.\n",
        "from IPython.display import clear_output\n",
        "! pip install alphagenome\n",
        "clear_output()"
      ]
    },
    {
      "cell_type": "markdown",
      "metadata": {
        "id": "-lcTVQLvqB6F"
      },
      "source": [
        "## Imports"
      ]
    },
    {
      "cell_type": "code",
      "execution_count": 2,
      "metadata": {
        "executionInfo": {
          "elapsed": 2877,
          "status": "ok",
          "timestamp": 1753109226780,
          "user": {
            "displayName": "",
            "userId": ""
          },
          "user_tz": -60
        },
        "id": "KuLPy_awXaP_",
        "language": "python"
      },
      "outputs": [],
      "source": [
        "from alphagenome import colab_utils\n",
        "from alphagenome.data import gene_annotation\n",
        "from alphagenome.data import genome\n",
        "from alphagenome.data import transcript as transcript_utils\n",
        "from alphagenome.interpretation import ism\n",
        "from alphagenome.models import dna_client\n",
        "from alphagenome.models import variant_scorers\n",
        "from alphagenome.visualization import plot_components\n",
        "import matplotlib.pyplot as plt\n",
        "import pandas as pd"
      ]
    },
    {
      "cell_type": "markdown",
      "metadata": {
        "id": "jEGP__L4oK_E"
      },
      "source": [
        "## Predict outputs for a DNA sequence"
      ]
    },
    {
      "cell_type": "markdown",
      "metadata": {
        "id": "Bzov6O0goK_F"
      },
      "source": [
        "AlphaGenome is a model that makes predictions from DNA sequences. Let's load it up:\n",
        "\n"
      ]
    },
    {
      "cell_type": "markdown",
      "metadata": {
        "id": "ThpPPG1A8L-D"
      },
      "source": [
        "\n",
        "```{tip}\n",
        "If using Google Colab, store your key in \"Secrets\" for persistent access across sessions (see [installation](https://www.alphagenomedocs.com/installation.html#google-colab)). Otherwise, `dna_client.create` can take the API key directly.\n",
        "```"
      ]
    },
    {
      "cell_type": "code",
      "execution_count": 3,
      "metadata": {
        "executionInfo": {
          "elapsed": 143,
          "status": "ok",
          "timestamp": 1753109227173,
          "user": {
            "displayName": "",
            "userId": ""
          },
          "user_tz": -60
        },
        "id": "toBpbthy93gr",
        "language": "python"
      },
      "outputs": [],
      "source": [
        "dna_model = dna_client.create(colab_utils.get_api_key())"
      ]
    },
    {
      "cell_type": "markdown",
      "metadata": {
        "id": "H_358E_nkYVt"
      },
      "source": [
        "The model can make predictions for the following [output types](https://www.alphagenomedocs.com/exploring_model_metadata.html):"
      ]
    },
    {
      "cell_type": "code",
      "execution_count": 4,
      "metadata": {
        "executionInfo": {
          "elapsed": 58,
          "status": "ok",
          "timestamp": 1753109227481,
          "user": {
            "displayName": "",
            "userId": ""
          },
          "user_tz": -60
        },
        "id": "U2Q-amDjkYVt",
        "outputId": "11e7c5e1-5949-43e8-a0bf-25814d19e32c"
      },
      "outputs": [
        {
          "data": {
            "text/plain": [
              "['ATAC',\n",
              " 'CAGE',\n",
              " 'DNASE',\n",
              " 'RNA_SEQ',\n",
              " 'CHIP_HISTONE',\n",
              " 'CHIP_TF',\n",
              " 'SPLICE_SITES',\n",
              " 'SPLICE_SITE_USAGE',\n",
              " 'SPLICE_JUNCTIONS',\n",
              " 'CONTACT_MAPS',\n",
              " 'PROCAP']"
            ]
          },
          "execution_count": 4,
          "metadata": {},
          "output_type": "execute_result"
        }
      ],
      "source": [
        "[output.name for output in dna_client.OutputType]"
      ]
    },
    {
      "cell_type": "markdown",
      "metadata": {
        "id": "dpFi65J3kYVt"
      },
      "source": [
        "AlphaGenome predicts multiple 'tracks' per output type, covering a wide variety of tissues and cell-types.  However, predictions can be made efficiently for subsets of interest.\n",
        "\n",
        "Here is how to make DNase-seq predictions (as specified by `OutputType`) in a subset of tracks corresponding to lung tissue (as specified by `ontology_terms`) for a short DNA sequence of length 2048:\n",
        "\n",
        "*Note: We use ontology terms from standardized biological sources like UBERON (for anatomy) and the Cell Ontology (CL) to provide consistent and widely recognized classifications for tissue and cell types.*"
      ]
    },
    {
      "cell_type": "code",
      "execution_count": 5,
      "metadata": {
        "executionInfo": {
          "elapsed": 190,
          "status": "ok",
          "timestamp": 1753109227954,
          "user": {
            "displayName": "",
            "userId": ""
          },
          "user_tz": -60
        },
        "id": "pRv5MT9hkYVt"
      },
      "outputs": [],
      "source": [
        "output = dna_model.predict_sequence(\n",
        "    sequence='GATTACA'.center(2048, 'N'),  # Pad to valid sequence length.\n",
        "    requested_outputs=[dna_client.OutputType.DNASE],\n",
        "    ontology_terms=['UBERON:0002048'],  # Lung.\n",
        ")"
      ]
    },
    {
      "cell_type": "markdown",
      "metadata": {
        "id": "bHz9nXh9kYVt"
      },
      "source": [
        "The `output` object contains predictions for all the different requested output types (in this case, only output type `DNASE`). Predictions for genomic tracks are stored inside a `TrackData` object:                                                                                                                            "
      ]
    },
    {
      "cell_type": "code",
      "execution_count": 6,
      "metadata": {
        "executionInfo": {
          "elapsed": 53,
          "status": "ok",
          "timestamp": 1753109228265,
          "user": {
            "displayName": "",
            "userId": ""
          },
          "user_tz": -60
        },
        "id": "KmQMwe1MkYVt",
        "outputId": "0590b1bf-c16e-47fe-dffa-a421c2e2b3bb"
      },
      "outputs": [
        {
          "data": {
            "text/plain": [
              "alphagenome.data.track_data.TrackData"
            ]
          },
          "execution_count": 6,
          "metadata": {},
          "output_type": "execute_result"
        }
      ],
      "source": [
        "dnase = output.dnase\n",
        "type(dnase)"
      ]
    },
    {
      "cell_type": "markdown",
      "metadata": {
        "id": "HflwfcSxkYVt"
      },
      "source": [
        "`TrackData` objects have the following components:"
      ]
    },
    {
      "cell_type": "markdown",
      "metadata": {
        "id": "pudb_vcWkYVt"
      },
      "source": [
        "\u003ca href=\"https://services.google.com/fh/files/misc/trackdata.png\"\u003e\u003cimg src=\"https://services.google.com/fh/files/misc/trackdata.png\" alt=\"trackdata\" border=\"0\" height=500\u003e\u003c/a\u003e"
      ]
    },
    {
      "cell_type": "markdown",
      "metadata": {
        "id": "0R24IDvokYVt"
      },
      "source": [
        "The predictions of shape `(sequence_length, num_tracks)` are stored in `.values`:"
      ]
    },
    {
      "cell_type": "code",
      "execution_count": 7,
      "metadata": {
        "executionInfo": {
          "elapsed": 55,
          "status": "ok",
          "timestamp": 1753109228604,
          "user": {
            "displayName": "",
            "userId": ""
          },
          "user_tz": -60
        },
        "id": "7OoINJM_kYVt",
        "outputId": "c1380dc9-111a-46de-e40d-3203893946f5"
      },
      "outputs": [
        {
          "name": "stdout",
          "output_type": "stream",
          "text": [
            "(2048, 1)\n"
          ]
        },
        {
          "data": {
            "text/plain": [
              "array([[0.001297  ],\n",
              "       [0.00121307],\n",
              "       [0.00121307],\n",
              "       ...,\n",
              "       [0.00138092],\n",
              "       [0.00213623],\n",
              "       [0.00292969]], shape=(2048, 1), dtype=float32)"
            ]
          },
          "execution_count": 7,
          "metadata": {},
          "output_type": "execute_result"
        }
      ],
      "source": [
        "print(dnase.values.shape)\n",
        "\n",
        "dnase.values"
      ]
    },
    {
      "cell_type": "markdown",
      "metadata": {
        "id": "6kAs7jA_kYVt"
      },
      "source": [
        "And the corresponding metadata describing each of the tracks is stored in `.metadata`:\n"
      ]
    },
    {
      "cell_type": "code",
      "execution_count": 8,
      "metadata": {
        "colab": {
          "height": 135
        },
        "executionInfo": {
          "elapsed": 107,
          "status": "ok",
          "timestamp": 1753109228958,
          "user": {
            "displayName": "",
            "userId": ""
          },
          "user_tz": -60
        },
        "id": "6SPQ6zhukYVt",
        "outputId": "83be25af-0426-4810-cf9e-8b522b46d5f8"
      },
      "outputs": [
        {
          "data": {
            "application/vnd.google.colaboratory.intrinsic+json": {
              "summary": "{\n  \"name\": \"dnase\",\n  \"rows\": 1,\n  \"fields\": [\n    {\n      \"column\": \"name\",\n      \"properties\": {\n        \"dtype\": \"string\",\n        \"num_unique_values\": 1,\n        \"samples\": [\n          \"UBERON:0002048 DNase-seq\"\n        ],\n        \"semantic_type\": \"\",\n        \"description\": \"\"\n      }\n    },\n    {\n      \"column\": \"strand\",\n      \"properties\": {\n        \"dtype\": \"string\",\n        \"num_unique_values\": 1,\n        \"samples\": [\n          \".\"\n        ],\n        \"semantic_type\": \"\",\n        \"description\": \"\"\n      }\n    },\n    {\n      \"column\": \"Assay title\",\n      \"properties\": {\n        \"dtype\": \"string\",\n        \"num_unique_values\": 1,\n        \"samples\": [\n          \"DNase-seq\"\n        ],\n        \"semantic_type\": \"\",\n        \"description\": \"\"\n      }\n    },\n    {\n      \"column\": \"ontology_curie\",\n      \"properties\": {\n        \"dtype\": \"string\",\n        \"num_unique_values\": 1,\n        \"samples\": [\n          \"UBERON:0002048\"\n        ],\n        \"semantic_type\": \"\",\n        \"description\": \"\"\n      }\n    },\n    {\n      \"column\": \"biosample_name\",\n      \"properties\": {\n        \"dtype\": \"string\",\n        \"num_unique_values\": 1,\n        \"samples\": [\n          \"lung\"\n        ],\n        \"semantic_type\": \"\",\n        \"description\": \"\"\n      }\n    },\n    {\n      \"column\": \"biosample_type\",\n      \"properties\": {\n        \"dtype\": \"string\",\n        \"num_unique_values\": 1,\n        \"samples\": [\n          \"tissue\"\n        ],\n        \"semantic_type\": \"\",\n        \"description\": \"\"\n      }\n    },\n    {\n      \"column\": \"biosample_life_stage\",\n      \"properties\": {\n        \"dtype\": \"string\",\n        \"num_unique_values\": 1,\n        \"samples\": [\n          \"embryonic\"\n        ],\n        \"semantic_type\": \"\",\n        \"description\": \"\"\n      }\n    },\n    {\n      \"column\": \"data_source\",\n      \"properties\": {\n        \"dtype\": \"string\",\n        \"num_unique_values\": 1,\n        \"samples\": [\n          \"encode\"\n        ],\n        \"semantic_type\": \"\",\n        \"description\": \"\"\n      }\n    },\n    {\n      \"column\": \"endedness\",\n      \"properties\": {\n        \"dtype\": \"string\",\n        \"num_unique_values\": 1,\n        \"samples\": [\n          \"paired\"\n        ],\n        \"semantic_type\": \"\",\n        \"description\": \"\"\n      }\n    },\n    {\n      \"column\": \"genetically_modified\",\n      \"properties\": {\n        \"dtype\": \"boolean\",\n        \"num_unique_values\": 1,\n        \"samples\": [\n          false\n        ],\n        \"semantic_type\": \"\",\n        \"description\": \"\"\n      }\n    },\n    {\n      \"column\": \"nonzero_mean\",\n      \"properties\": {\n        \"dtype\": \"number\",\n        \"std\": null,\n        \"min\": 0.4275049567222595,\n        \"max\": 0.4275049567222595,\n        \"num_unique_values\": 1,\n        \"samples\": [\n          0.4275049567222595\n        ],\n        \"semantic_type\": \"\",\n        \"description\": \"\"\n      }\n    }\n  ]\n}",
              "type": "dataframe"
            },
            "text/html": [
              "\n",
              "  \u003cdiv id=\"df-d46da5f0-c99e-4253-9f70-aa5552196053\" class=\"colab-df-container\"\u003e\n",
              "    \u003cdiv\u003e\n",
              "\u003cstyle scoped\u003e\n",
              "    .dataframe tbody tr th:only-of-type {\n",
              "        vertical-align: middle;\n",
              "    }\n",
              "\n",
              "    .dataframe tbody tr th {\n",
              "        vertical-align: top;\n",
              "    }\n",
              "\n",
              "    .dataframe thead th {\n",
              "        text-align: right;\n",
              "    }\n",
              "\u003c/style\u003e\n",
              "\u003ctable border=\"1\" class=\"dataframe\"\u003e\n",
              "  \u003cthead\u003e\n",
              "    \u003ctr style=\"text-align: right;\"\u003e\n",
              "      \u003cth\u003e\u003c/th\u003e\n",
              "      \u003cth\u003ename\u003c/th\u003e\n",
              "      \u003cth\u003estrand\u003c/th\u003e\n",
              "      \u003cth\u003eAssay title\u003c/th\u003e\n",
              "      \u003cth\u003eontology_curie\u003c/th\u003e\n",
              "      \u003cth\u003ebiosample_name\u003c/th\u003e\n",
              "      \u003cth\u003ebiosample_type\u003c/th\u003e\n",
              "      \u003cth\u003ebiosample_life_stage\u003c/th\u003e\n",
              "      \u003cth\u003edata_source\u003c/th\u003e\n",
              "      \u003cth\u003eendedness\u003c/th\u003e\n",
              "      \u003cth\u003egenetically_modified\u003c/th\u003e\n",
              "      \u003cth\u003enonzero_mean\u003c/th\u003e\n",
              "    \u003c/tr\u003e\n",
              "  \u003c/thead\u003e\n",
              "  \u003ctbody\u003e\n",
              "    \u003ctr\u003e\n",
              "      \u003cth\u003e0\u003c/th\u003e\n",
              "      \u003ctd\u003eUBERON:0002048 DNase-seq\u003c/td\u003e\n",
              "      \u003ctd\u003e.\u003c/td\u003e\n",
              "      \u003ctd\u003eDNase-seq\u003c/td\u003e\n",
              "      \u003ctd\u003eUBERON:0002048\u003c/td\u003e\n",
              "      \u003ctd\u003elung\u003c/td\u003e\n",
              "      \u003ctd\u003etissue\u003c/td\u003e\n",
              "      \u003ctd\u003eembryonic\u003c/td\u003e\n",
              "      \u003ctd\u003eencode\u003c/td\u003e\n",
              "      \u003ctd\u003epaired\u003c/td\u003e\n",
              "      \u003ctd\u003eFalse\u003c/td\u003e\n",
              "      \u003ctd\u003e0.427505\u003c/td\u003e\n",
              "    \u003c/tr\u003e\n",
              "  \u003c/tbody\u003e\n",
              "\u003c/table\u003e\n",
              "\u003c/div\u003e\n",
              "    \u003cdiv class=\"colab-df-buttons\"\u003e\n",
              "\n",
              "  \u003cdiv class=\"colab-df-container\"\u003e\n",
              "    \u003cbutton class=\"colab-df-convert\" onclick=\"convertToInteractive('df-d46da5f0-c99e-4253-9f70-aa5552196053')\"\n",
              "            title=\"Convert this dataframe to an interactive table.\"\n",
              "            style=\"display:none;\"\u003e\n",
              "\n",
              "  \u003csvg xmlns=\"http://www.w3.org/2000/svg\" height=\"24px\" viewBox=\"0 -960 960 960\"\u003e\n",
              "    \u003cpath d=\"M120-120v-720h720v720H120Zm60-500h600v-160H180v160Zm220 220h160v-160H400v160Zm0 220h160v-160H400v160ZM180-400h160v-160H180v160Zm440 0h160v-160H620v160ZM180-180h160v-160H180v160Zm440 0h160v-160H620v160Z\"/\u003e\n",
              "  \u003c/svg\u003e\n",
              "    \u003c/button\u003e\n",
              "\n",
              "  \u003cstyle\u003e\n",
              "    .colab-df-container {\n",
              "      display:flex;\n",
              "      gap: 12px;\n",
              "    }\n",
              "\n",
              "    .colab-df-convert {\n",
              "      background-color: #E8F0FE;\n",
              "      border: none;\n",
              "      border-radius: 50%;\n",
              "      cursor: pointer;\n",
              "      display: none;\n",
              "      fill: #1967D2;\n",
              "      height: 32px;\n",
              "      padding: 0 0 0 0;\n",
              "      width: 32px;\n",
              "    }\n",
              "\n",
              "    .colab-df-convert:hover {\n",
              "      background-color: #E2EBFA;\n",
              "      box-shadow: 0px 1px 2px rgba(60, 64, 67, 0.3), 0px 1px 3px 1px rgba(60, 64, 67, 0.15);\n",
              "      fill: #174EA6;\n",
              "    }\n",
              "\n",
              "    .colab-df-buttons div {\n",
              "      margin-bottom: 4px;\n",
              "    }\n",
              "\n",
              "    [theme=dark] .colab-df-convert {\n",
              "      background-color: #3B4455;\n",
              "      fill: #D2E3FC;\n",
              "    }\n",
              "\n",
              "    [theme=dark] .colab-df-convert:hover {\n",
              "      background-color: #434B5C;\n",
              "      box-shadow: 0px 1px 3px 1px rgba(0, 0, 0, 0.15);\n",
              "      filter: drop-shadow(0px 1px 2px rgba(0, 0, 0, 0.3));\n",
              "      fill: #FFFFFF;\n",
              "    }\n",
              "  \u003c/style\u003e\n",
              "\n",
              "    \u003cscript\u003e\n",
              "      const buttonEl =\n",
              "        document.querySelector('#df-d46da5f0-c99e-4253-9f70-aa5552196053 button.colab-df-convert');\n",
              "      buttonEl.style.display =\n",
              "        google.colab.kernel.accessAllowed ? 'block' : 'none';\n",
              "\n",
              "      async function convertToInteractive(key) {\n",
              "        const element = document.querySelector('#df-d46da5f0-c99e-4253-9f70-aa5552196053');\n",
              "        const dataTable =\n",
              "          await google.colab.kernel.invokeFunction('convertToInteractive',\n",
              "                                                    [key], {});\n",
              "        if (!dataTable) return;\n",
              "\n",
              "        const docLinkHtml = 'Like what you see? Visit the ' +\n",
              "          '\u003ca target=\"_blank\" href=https://colab.research.google.com/notebooks/data_table.ipynb\u003edata table notebook\u003c/a\u003e'\n",
              "          + ' to learn more about interactive tables.';\n",
              "        element.innerHTML = '';\n",
              "        dataTable['output_type'] = 'display_data';\n",
              "        await google.colab.output.renderOutput(dataTable, element);\n",
              "        const docLink = document.createElement('div');\n",
              "        docLink.innerHTML = docLinkHtml;\n",
              "        element.appendChild(docLink);\n",
              "      }\n",
              "    \u003c/script\u003e\n",
              "  \u003c/div\u003e\n",
              "\n",
              "    \u003c/div\u003e\n",
              "  \u003c/div\u003e\n"
            ],
            "text/plain": [
              "                       name strand  ... genetically_modified nonzero_mean\n",
              "0  UBERON:0002048 DNase-seq      .  ...                False     0.427505\n",
              "\n",
              "[1 rows x 11 columns]"
            ]
          },
          "execution_count": 8,
          "metadata": {},
          "output_type": "execute_result"
        }
      ],
      "source": [
        "dnase.metadata"
      ]
    },
    {
      "cell_type": "markdown",
      "metadata": {
        "id": "KLVSBMxVkYVt"
      },
      "source": [
        "In this case, there is only one output track, so the track metadata returns only 1 row.\n",
        "\n",
        "The track metadata is especially useful when requesting predictions for multiple tissues or cell-types, and when dealing with stranded assays (which are assays with separate readouts for the two DNA strands, such as CAGE and RNA-seq):\n"
      ]
    },
    {
      "cell_type": "code",
      "execution_count": 9,
      "metadata": {
        "executionInfo": {
          "elapsed": 104,
          "status": "ok",
          "timestamp": 1753109229381,
          "user": {
            "displayName": "",
            "userId": ""
          },
          "user_tz": -60
        },
        "id": "LGYCvBbmkYVt",
        "outputId": "d619addf-c69d-4f52-a7de-d255c6dff353"
      },
      "outputs": [
        {
          "name": "stdout",
          "output_type": "stream",
          "text": [
            "DNASE predictions shape: (2048, 2)\n",
            "CAGE predictions shape: (2048, 4)\n"
          ]
        }
      ],
      "source": [
        "output = dna_model.predict_sequence(\n",
        "    sequence='GATTACA'.center(2048, 'N'),  # Pad to valid sequence length.\n",
        "    requested_outputs=[\n",
        "        dna_client.OutputType.CAGE,\n",
        "        dna_client.OutputType.DNASE,\n",
        "    ],\n",
        "    ontology_terms=[\n",
        "        'UBERON:0002048',  # Lung.\n",
        "        'UBERON:0000955',  # Brain.\n",
        "    ],\n",
        ")\n",
        "\n",
        "print(f'DNASE predictions shape: {output.dnase.values.shape}')\n",
        "print(f'CAGE predictions shape: {output.cage.values.shape}')"
      ]
    },
    {
      "cell_type": "markdown",
      "metadata": {
        "id": "sA4plQHMkYVt"
      },
      "source": [
        "Notice that in this example, we requested predictions for 2 assays and 2 ontology terms simultaneously.\n",
        "\n",
        "The CAGE track metadata describes the strand and tissue of each of the 4 predicted tracks (2 per DNA strand):"
      ]
    },
    {
      "cell_type": "code",
      "execution_count": 10,
      "metadata": {
        "colab": {
          "height": 175
        },
        "executionInfo": {
          "elapsed": 55,
          "status": "ok",
          "timestamp": 1753109229688,
          "user": {
            "displayName": "",
            "userId": ""
          },
          "user_tz": -60
        },
        "id": "89vnUT2KkYVt",
        "outputId": "64fffde7-a999-4bcc-cdd1-caa702ba4bbb"
      },
      "outputs": [
        {
          "data": {
            "application/vnd.google.colaboratory.intrinsic+json": {
              "summary": "{\n  \"name\": \"output\",\n  \"rows\": 4,\n  \"fields\": [\n    {\n      \"column\": \"name\",\n      \"properties\": {\n        \"dtype\": \"string\",\n        \"num_unique_values\": 2,\n        \"samples\": [\n          \"hCAGE UBERON:0002048\",\n          \"hCAGE UBERON:0000955\"\n        ],\n        \"semantic_type\": \"\",\n        \"description\": \"\"\n      }\n    },\n    {\n      \"column\": \"strand\",\n      \"properties\": {\n        \"dtype\": \"string\",\n        \"num_unique_values\": 2,\n        \"samples\": [\n          \"-\",\n          \"+\"\n        ],\n        \"semantic_type\": \"\",\n        \"description\": \"\"\n      }\n    },\n    {\n      \"column\": \"Assay title\",\n      \"properties\": {\n        \"dtype\": \"category\",\n        \"num_unique_values\": 1,\n        \"samples\": [\n          \"hCAGE\"\n        ],\n        \"semantic_type\": \"\",\n        \"description\": \"\"\n      }\n    },\n    {\n      \"column\": \"ontology_curie\",\n      \"properties\": {\n        \"dtype\": \"string\",\n        \"num_unique_values\": 2,\n        \"samples\": [\n          \"UBERON:0002048\"\n        ],\n        \"semantic_type\": \"\",\n        \"description\": \"\"\n      }\n    },\n    {\n      \"column\": \"biosample_name\",\n      \"properties\": {\n        \"dtype\": \"string\",\n        \"num_unique_values\": 2,\n        \"samples\": [\n          \"lung\"\n        ],\n        \"semantic_type\": \"\",\n        \"description\": \"\"\n      }\n    },\n    {\n      \"column\": \"biosample_type\",\n      \"properties\": {\n        \"dtype\": \"category\",\n        \"num_unique_values\": 1,\n        \"samples\": [\n          \"tissue\"\n        ],\n        \"semantic_type\": \"\",\n        \"description\": \"\"\n      }\n    },\n    {\n      \"column\": \"data_source\",\n      \"properties\": {\n        \"dtype\": \"category\",\n        \"num_unique_values\": 1,\n        \"samples\": [\n          \"fantom\"\n        ],\n        \"semantic_type\": \"\",\n        \"description\": \"\"\n      }\n    },\n    {\n      \"column\": \"nonzero_mean\",\n      \"properties\": {\n        \"dtype\": \"number\",\n        \"std\": 1.283800687168554,\n        \"min\": 28.4322452545166,\n        \"max\": 30.655853271484375,\n        \"num_unique_values\": 2,\n        \"samples\": [\n          30.655853271484375\n        ],\n        \"semantic_type\": \"\",\n        \"description\": \"\"\n      }\n    }\n  ]\n}",
              "type": "dataframe"
            },
            "text/html": [
              "\n",
              "  \u003cdiv id=\"df-809b5e68-1ece-44e4-a76a-d9234a83333e\" class=\"colab-df-container\"\u003e\n",
              "    \u003cdiv\u003e\n",
              "\u003cstyle scoped\u003e\n",
              "    .dataframe tbody tr th:only-of-type {\n",
              "        vertical-align: middle;\n",
              "    }\n",
              "\n",
              "    .dataframe tbody tr th {\n",
              "        vertical-align: top;\n",
              "    }\n",
              "\n",
              "    .dataframe thead th {\n",
              "        text-align: right;\n",
              "    }\n",
              "\u003c/style\u003e\n",
              "\u003ctable border=\"1\" class=\"dataframe\"\u003e\n",
              "  \u003cthead\u003e\n",
              "    \u003ctr style=\"text-align: right;\"\u003e\n",
              "      \u003cth\u003e\u003c/th\u003e\n",
              "      \u003cth\u003ename\u003c/th\u003e\n",
              "      \u003cth\u003estrand\u003c/th\u003e\n",
              "      \u003cth\u003eAssay title\u003c/th\u003e\n",
              "      \u003cth\u003eontology_curie\u003c/th\u003e\n",
              "      \u003cth\u003ebiosample_name\u003c/th\u003e\n",
              "      \u003cth\u003ebiosample_type\u003c/th\u003e\n",
              "      \u003cth\u003edata_source\u003c/th\u003e\n",
              "      \u003cth\u003enonzero_mean\u003c/th\u003e\n",
              "    \u003c/tr\u003e\n",
              "  \u003c/thead\u003e\n",
              "  \u003ctbody\u003e\n",
              "    \u003ctr\u003e\n",
              "      \u003cth\u003e0\u003c/th\u003e\n",
              "      \u003ctd\u003ehCAGE UBERON:0000955\u003c/td\u003e\n",
              "      \u003ctd\u003e+\u003c/td\u003e\n",
              "      \u003ctd\u003ehCAGE\u003c/td\u003e\n",
              "      \u003ctd\u003eUBERON:0000955\u003c/td\u003e\n",
              "      \u003ctd\u003ebrain\u003c/td\u003e\n",
              "      \u003ctd\u003etissue\u003c/td\u003e\n",
              "      \u003ctd\u003efantom\u003c/td\u003e\n",
              "      \u003ctd\u003e28.432245\u003c/td\u003e\n",
              "    \u003c/tr\u003e\n",
              "    \u003ctr\u003e\n",
              "      \u003cth\u003e1\u003c/th\u003e\n",
              "      \u003ctd\u003ehCAGE UBERON:0002048\u003c/td\u003e\n",
              "      \u003ctd\u003e+\u003c/td\u003e\n",
              "      \u003ctd\u003ehCAGE\u003c/td\u003e\n",
              "      \u003ctd\u003eUBERON:0002048\u003c/td\u003e\n",
              "      \u003ctd\u003elung\u003c/td\u003e\n",
              "      \u003ctd\u003etissue\u003c/td\u003e\n",
              "      \u003ctd\u003efantom\u003c/td\u003e\n",
              "      \u003ctd\u003e30.655853\u003c/td\u003e\n",
              "    \u003c/tr\u003e\n",
              "    \u003ctr\u003e\n",
              "      \u003cth\u003e2\u003c/th\u003e\n",
              "      \u003ctd\u003ehCAGE UBERON:0000955\u003c/td\u003e\n",
              "      \u003ctd\u003e-\u003c/td\u003e\n",
              "      \u003ctd\u003ehCAGE\u003c/td\u003e\n",
              "      \u003ctd\u003eUBERON:0000955\u003c/td\u003e\n",
              "      \u003ctd\u003ebrain\u003c/td\u003e\n",
              "      \u003ctd\u003etissue\u003c/td\u003e\n",
              "      \u003ctd\u003efantom\u003c/td\u003e\n",
              "      \u003ctd\u003e28.432245\u003c/td\u003e\n",
              "    \u003c/tr\u003e\n",
              "    \u003ctr\u003e\n",
              "      \u003cth\u003e3\u003c/th\u003e\n",
              "      \u003ctd\u003ehCAGE UBERON:0002048\u003c/td\u003e\n",
              "      \u003ctd\u003e-\u003c/td\u003e\n",
              "      \u003ctd\u003ehCAGE\u003c/td\u003e\n",
              "      \u003ctd\u003eUBERON:0002048\u003c/td\u003e\n",
              "      \u003ctd\u003elung\u003c/td\u003e\n",
              "      \u003ctd\u003etissue\u003c/td\u003e\n",
              "      \u003ctd\u003efantom\u003c/td\u003e\n",
              "      \u003ctd\u003e30.655853\u003c/td\u003e\n",
              "    \u003c/tr\u003e\n",
              "  \u003c/tbody\u003e\n",
              "\u003c/table\u003e\n",
              "\u003c/div\u003e\n",
              "    \u003cdiv class=\"colab-df-buttons\"\u003e\n",
              "\n",
              "  \u003cdiv class=\"colab-df-container\"\u003e\n",
              "    \u003cbutton class=\"colab-df-convert\" onclick=\"convertToInteractive('df-809b5e68-1ece-44e4-a76a-d9234a83333e')\"\n",
              "            title=\"Convert this dataframe to an interactive table.\"\n",
              "            style=\"display:none;\"\u003e\n",
              "\n",
              "  \u003csvg xmlns=\"http://www.w3.org/2000/svg\" height=\"24px\" viewBox=\"0 -960 960 960\"\u003e\n",
              "    \u003cpath d=\"M120-120v-720h720v720H120Zm60-500h600v-160H180v160Zm220 220h160v-160H400v160Zm0 220h160v-160H400v160ZM180-400h160v-160H180v160Zm440 0h160v-160H620v160ZM180-180h160v-160H180v160Zm440 0h160v-160H620v160Z\"/\u003e\n",
              "  \u003c/svg\u003e\n",
              "    \u003c/button\u003e\n",
              "\n",
              "  \u003cstyle\u003e\n",
              "    .colab-df-container {\n",
              "      display:flex;\n",
              "      gap: 12px;\n",
              "    }\n",
              "\n",
              "    .colab-df-convert {\n",
              "      background-color: #E8F0FE;\n",
              "      border: none;\n",
              "      border-radius: 50%;\n",
              "      cursor: pointer;\n",
              "      display: none;\n",
              "      fill: #1967D2;\n",
              "      height: 32px;\n",
              "      padding: 0 0 0 0;\n",
              "      width: 32px;\n",
              "    }\n",
              "\n",
              "    .colab-df-convert:hover {\n",
              "      background-color: #E2EBFA;\n",
              "      box-shadow: 0px 1px 2px rgba(60, 64, 67, 0.3), 0px 1px 3px 1px rgba(60, 64, 67, 0.15);\n",
              "      fill: #174EA6;\n",
              "    }\n",
              "\n",
              "    .colab-df-buttons div {\n",
              "      margin-bottom: 4px;\n",
              "    }\n",
              "\n",
              "    [theme=dark] .colab-df-convert {\n",
              "      background-color: #3B4455;\n",
              "      fill: #D2E3FC;\n",
              "    }\n",
              "\n",
              "    [theme=dark] .colab-df-convert:hover {\n",
              "      background-color: #434B5C;\n",
              "      box-shadow: 0px 1px 3px 1px rgba(0, 0, 0, 0.15);\n",
              "      filter: drop-shadow(0px 1px 2px rgba(0, 0, 0, 0.3));\n",
              "      fill: #FFFFFF;\n",
              "    }\n",
              "  \u003c/style\u003e\n",
              "\n",
              "    \u003cscript\u003e\n",
              "      const buttonEl =\n",
              "        document.querySelector('#df-809b5e68-1ece-44e4-a76a-d9234a83333e button.colab-df-convert');\n",
              "      buttonEl.style.display =\n",
              "        google.colab.kernel.accessAllowed ? 'block' : 'none';\n",
              "\n",
              "      async function convertToInteractive(key) {\n",
              "        const element = document.querySelector('#df-809b5e68-1ece-44e4-a76a-d9234a83333e');\n",
              "        const dataTable =\n",
              "          await google.colab.kernel.invokeFunction('convertToInteractive',\n",
              "                                                    [key], {});\n",
              "        if (!dataTable) return;\n",
              "\n",
              "        const docLinkHtml = 'Like what you see? Visit the ' +\n",
              "          '\u003ca target=\"_blank\" href=https://colab.research.google.com/notebooks/data_table.ipynb\u003edata table notebook\u003c/a\u003e'\n",
              "          + ' to learn more about interactive tables.';\n",
              "        element.innerHTML = '';\n",
              "        dataTable['output_type'] = 'display_data';\n",
              "        await google.colab.output.renderOutput(dataTable, element);\n",
              "        const docLink = document.createElement('div');\n",
              "        docLink.innerHTML = docLinkHtml;\n",
              "        element.appendChild(docLink);\n",
              "      }\n",
              "    \u003c/script\u003e\n",
              "  \u003c/div\u003e\n",
              "\n",
              "\n",
              "    \u003cdiv id=\"df-754383b2-b6f2-4b6e-b5bb-c3387c9d6f44\"\u003e\n",
              "      \u003cbutton class=\"colab-df-quickchart\" onclick=\"quickchart('df-754383b2-b6f2-4b6e-b5bb-c3387c9d6f44')\"\n",
              "                title=\"Suggest charts\"\n",
              "                style=\"display:none;\"\u003e\n",
              "\n",
              "\u003csvg xmlns=\"http://www.w3.org/2000/svg\" height=\"24px\"viewBox=\"0 0 24 24\"\n",
              "     width=\"24px\"\u003e\n",
              "    \u003cg\u003e\n",
              "        \u003cpath d=\"M19 3H5c-1.1 0-2 .9-2 2v14c0 1.1.9 2 2 2h14c1.1 0 2-.9 2-2V5c0-1.1-.9-2-2-2zM9 17H7v-7h2v7zm4 0h-2V7h2v10zm4 0h-2v-4h2v4z\"/\u003e\n",
              "    \u003c/g\u003e\n",
              "\u003c/svg\u003e\n",
              "      \u003c/button\u003e\n",
              "\n",
              "\u003cstyle\u003e\n",
              "  .colab-df-quickchart {\n",
              "      --bg-color: #E8F0FE;\n",
              "      --fill-color: #1967D2;\n",
              "      --hover-bg-color: #E2EBFA;\n",
              "      --hover-fill-color: #174EA6;\n",
              "      --disabled-fill-color: #AAA;\n",
              "      --disabled-bg-color: #DDD;\n",
              "  }\n",
              "\n",
              "  [theme=dark] .colab-df-quickchart {\n",
              "      --bg-color: #3B4455;\n",
              "      --fill-color: #D2E3FC;\n",
              "      --hover-bg-color: #434B5C;\n",
              "      --hover-fill-color: #FFFFFF;\n",
              "      --disabled-bg-color: #3B4455;\n",
              "      --disabled-fill-color: #666;\n",
              "  }\n",
              "\n",
              "  .colab-df-quickchart {\n",
              "    background-color: var(--bg-color);\n",
              "    border: none;\n",
              "    border-radius: 50%;\n",
              "    cursor: pointer;\n",
              "    display: none;\n",
              "    fill: var(--fill-color);\n",
              "    height: 32px;\n",
              "    padding: 0;\n",
              "    width: 32px;\n",
              "  }\n",
              "\n",
              "  .colab-df-quickchart:hover {\n",
              "    background-color: var(--hover-bg-color);\n",
              "    box-shadow: 0 1px 2px rgba(60, 64, 67, 0.3), 0 1px 3px 1px rgba(60, 64, 67, 0.15);\n",
              "    fill: var(--button-hover-fill-color);\n",
              "  }\n",
              "\n",
              "  .colab-df-quickchart-complete:disabled,\n",
              "  .colab-df-quickchart-complete:disabled:hover {\n",
              "    background-color: var(--disabled-bg-color);\n",
              "    fill: var(--disabled-fill-color);\n",
              "    box-shadow: none;\n",
              "  }\n",
              "\n",
              "  .colab-df-spinner {\n",
              "    border: 2px solid var(--fill-color);\n",
              "    border-color: transparent;\n",
              "    border-bottom-color: var(--fill-color);\n",
              "    animation:\n",
              "      spin 1s steps(1) infinite;\n",
              "  }\n",
              "\n",
              "  @keyframes spin {\n",
              "    0% {\n",
              "      border-color: transparent;\n",
              "      border-bottom-color: var(--fill-color);\n",
              "      border-left-color: var(--fill-color);\n",
              "    }\n",
              "    20% {\n",
              "      border-color: transparent;\n",
              "      border-left-color: var(--fill-color);\n",
              "      border-top-color: var(--fill-color);\n",
              "    }\n",
              "    30% {\n",
              "      border-color: transparent;\n",
              "      border-left-color: var(--fill-color);\n",
              "      border-top-color: var(--fill-color);\n",
              "      border-right-color: var(--fill-color);\n",
              "    }\n",
              "    40% {\n",
              "      border-color: transparent;\n",
              "      border-right-color: var(--fill-color);\n",
              "      border-top-color: var(--fill-color);\n",
              "    }\n",
              "    60% {\n",
              "      border-color: transparent;\n",
              "      border-right-color: var(--fill-color);\n",
              "    }\n",
              "    80% {\n",
              "      border-color: transparent;\n",
              "      border-right-color: var(--fill-color);\n",
              "      border-bottom-color: var(--fill-color);\n",
              "    }\n",
              "    90% {\n",
              "      border-color: transparent;\n",
              "      border-bottom-color: var(--fill-color);\n",
              "    }\n",
              "  }\n",
              "\u003c/style\u003e\n",
              "\n",
              "      \u003cscript\u003e\n",
              "        async function quickchart(key) {\n",
              "          const quickchartButtonEl =\n",
              "            document.querySelector('#' + key + ' button');\n",
              "          quickchartButtonEl.disabled = true;  // To prevent multiple clicks.\n",
              "          quickchartButtonEl.classList.add('colab-df-spinner');\n",
              "          try {\n",
              "            const charts = await google.colab.kernel.invokeFunction(\n",
              "                'suggestCharts', [key], {});\n",
              "          } catch (error) {\n",
              "            console.error('Error during call to suggestCharts:', error);\n",
              "          }\n",
              "          quickchartButtonEl.classList.remove('colab-df-spinner');\n",
              "          quickchartButtonEl.classList.add('colab-df-quickchart-complete');\n",
              "        }\n",
              "        (() =\u003e {\n",
              "          let quickchartButtonEl =\n",
              "            document.querySelector('#df-754383b2-b6f2-4b6e-b5bb-c3387c9d6f44 button');\n",
              "          quickchartButtonEl.style.display =\n",
              "            google.colab.kernel.accessAllowed ? 'block' : 'none';\n",
              "        })();\n",
              "      \u003c/script\u003e\n",
              "    \u003c/div\u003e\n",
              "    \u003c/div\u003e\n",
              "  \u003c/div\u003e\n"
            ],
            "text/plain": [
              "                   name strand  ... data_source nonzero_mean\n",
              "0  hCAGE UBERON:0000955      +  ...      fantom    28.432245\n",
              "1  hCAGE UBERON:0002048      +  ...      fantom    30.655853\n",
              "2  hCAGE UBERON:0000955      -  ...      fantom    28.432245\n",
              "3  hCAGE UBERON:0002048      -  ...      fantom    30.655853\n",
              "\n",
              "[4 rows x 8 columns]"
            ]
          },
          "execution_count": 10,
          "metadata": {},
          "output_type": "execute_result"
        }
      ],
      "source": [
        "output.cage.metadata"
      ]
    },
    {
      "cell_type": "markdown",
      "metadata": {
        "id": "HemMKknzkYVt"
      },
      "source": [
        "See the [output metadata documentation](https://www.alphagenomedocs.com/exploring_model_metadata.html) for more information on the output types and output shapes. For the mapping between tissue names (e.g. 'brain' -\u003e 'UBERON:0000955') and ontology terms, see this [tutorial](tissue_ontology_mapping.ipynb).\n"
      ]
    },
    {
      "cell_type": "markdown",
      "metadata": {
        "id": "rL6BQQfqkYVt"
      },
      "source": [
        "## Predict outputs for a genome interval (reference genome)"
      ]
    },
    {
      "cell_type": "markdown",
      "metadata": {
        "id": "cZuGzeStkYVt"
      },
      "source": [
        "For convenience, you can also directly make predictions for a human reference genome sequence specified by a **genomic interval**. For example, let's predict RNA-seq for tissue 'Right liver lobe' in a 1MB region of Chromosome 19 around the gene *CYP2B6*, which encodes an enzyme involved in drug metabolism, and is primarily expressed in the liver.\n",
        "\n",
        "We first load up a GTF file containing gene and transcript locations as annotated by GENCODE (more information on GTF format [here](https://www.gencodegenes.org/pages/data_format.html)):"
      ]
    },
    {
      "cell_type": "code",
      "execution_count": 11,
      "metadata": {
        "executionInfo": {
          "elapsed": 5820,
          "status": "ok",
          "timestamp": 1753109235792,
          "user": {
            "displayName": "",
            "userId": ""
          },
          "user_tz": -60
        },
        "id": "1WE7BBh6klIA"
      },
      "outputs": [],
      "source": [
        "# The GTF file contains information on the location of all trancripts.\n",
        "# Note that we use genome assembly hg38 for human.\n",
        "gtf = pd.read_feather(\n",
        "    'https://storage.googleapis.com/alphagenome/reference/gencode/'\n",
        "    'hg38/gencode.v46.annotation.gtf.gz.feather'\n",
        ")\n",
        "\n",
        "# Set up transcript extractors using the information in the GTF file.\n",
        "gtf_transcripts = gene_annotation.filter_protein_coding(gtf)\n",
        "gtf_transcripts = gene_annotation.filter_to_longest_transcript(gtf_transcripts)\n",
        "transcript_extractor = transcript_utils.TranscriptExtractor(gtf_transcripts)"
      ]
    },
    {
      "cell_type": "markdown",
      "metadata": {
        "id": "Q5PjqsMCkYVt"
      },
      "source": [
        "And then fetch the gene's location as a `genome.Interval` object by passing either its `gene_symbol` (HGNC naming convention) or ENSEMBL `gene_id`:"
      ]
    },
    {
      "cell_type": "code",
      "execution_count": 12,
      "metadata": {
        "executionInfo": {
          "elapsed": 1261,
          "status": "ok",
          "timestamp": 1753109237314,
          "user": {
            "displayName": "",
            "userId": ""
          },
          "user_tz": -60
        },
        "id": "pngLCscokYVt",
        "outputId": "dc75831e-04b2-4cb3-f68a-786883eb182b"
      },
      "outputs": [
        {
          "data": {
            "text/plain": [
              "Interval(chromosome='chr19', start=40991281, end=41018398, strand='+', name='CYP2B6')"
            ]
          },
          "execution_count": 12,
          "metadata": {},
          "output_type": "execute_result"
        }
      ],
      "source": [
        "interval = gene_annotation.get_gene_interval(gtf, gene_symbol='CYP2B6')\n",
        "interval"
      ]
    },
    {
      "cell_type": "markdown",
      "metadata": {
        "id": "6fLrfgyvkYVt"
      },
      "source": [
        "We can resize it to a length compatible with the model:"
      ]
    },
    {
      "cell_type": "code",
      "execution_count": 13,
      "metadata": {
        "executionInfo": {
          "elapsed": 54,
          "status": "ok",
          "timestamp": 1753109237616,
          "user": {
            "displayName": "",
            "userId": ""
          },
          "user_tz": -60
        },
        "id": "VV5k05MykYVt"
      },
      "outputs": [],
      "source": [
        "interval = interval.resize(dna_client.SEQUENCE_LENGTH_1MB)"
      ]
    },
    {
      "cell_type": "markdown",
      "metadata": {
        "id": "pu1A32KJkYVt"
      },
      "source": [
        "The `.resize()` method adjusts the interval to the specified width by expanding (or contracting) around its original center. Note that `dna_model.predict_interval()` interprets this resizing as an expansion of the actual genomic sequence rather than padding tokens.\n"
      ]
    },
    {
      "cell_type": "code",
      "execution_count": 14,
      "metadata": {
        "executionInfo": {
          "elapsed": 3,
          "status": "ok",
          "timestamp": 1753109237884,
          "user": {
            "displayName": "",
            "userId": ""
          },
          "user_tz": -60
        },
        "id": "3TdgcNRskYVt",
        "outputId": "ca779cbf-bd09-499f-af45-4f11ecf65fdf"
      },
      "outputs": [
        {
          "data": {
            "text/plain": [
              "1048576"
            ]
          },
          "execution_count": 14,
          "metadata": {},
          "output_type": "execute_result"
        }
      ],
      "source": [
        "interval.width"
      ]
    },
    {
      "cell_type": "markdown",
      "metadata": {
        "id": "hI5hi6DckYVu"
      },
      "source": [
        " See the [essential commands documentation](https://www.alphagenomedocs.com/colabs/essential_commands.html) for more handy commands like `resize`.\n",
        "\n",
        "Note that AlphaGenome supports the following input sequence lengths:"
      ]
    },
    {
      "cell_type": "code",
      "execution_count": 15,
      "metadata": {
        "executionInfo": {
          "elapsed": 53,
          "status": "ok",
          "timestamp": 1753109238218,
          "user": {
            "displayName": "",
            "userId": ""
          },
          "user_tz": -60
        },
        "id": "22gZecZTkYVu",
        "outputId": "04dc88da-5847-4540-e744-c080b1e330c2"
      },
      "outputs": [
        {
          "data": {
            "text/plain": [
              "dict_keys(['SEQUENCE_LENGTH_2KB', 'SEQUENCE_LENGTH_16KB', 'SEQUENCE_LENGTH_100KB', 'SEQUENCE_LENGTH_500KB', 'SEQUENCE_LENGTH_1MB'])"
            ]
          },
          "execution_count": 15,
          "metadata": {},
          "output_type": "execute_result"
        }
      ],
      "source": [
        "dna_client.SUPPORTED_SEQUENCE_LENGTHS.keys()"
      ]
    },
    {
      "cell_type": "markdown",
      "metadata": {
        "id": "oRk3W7yjkYVu"
      },
      "source": [
        "\n",
        " We can now make predictions using our interval:"
      ]
    },
    {
      "cell_type": "code",
      "execution_count": 16,
      "metadata": {
        "executionInfo": {
          "elapsed": 759,
          "status": "ok",
          "timestamp": 1753109239256,
          "user": {
            "displayName": "",
            "userId": ""
          },
          "user_tz": -60
        },
        "id": "ME7NH0B-kYVu",
        "outputId": "bc1f39cf-adb3-402f-9f52-83f588a07b80"
      },
      "outputs": [
        {
          "data": {
            "text/plain": [
              "(1048576, 3)"
            ]
          },
          "execution_count": 16,
          "metadata": {},
          "output_type": "execute_result"
        }
      ],
      "source": [
        "output = dna_model.predict_interval(\n",
        "    interval=interval,\n",
        "    requested_outputs=[dna_client.OutputType.RNA_SEQ],\n",
        "    ontology_terms=['UBERON:0001114'],\n",
        ")  # Right liver lobe.\n",
        "\n",
        "output.rna_seq.values.shape"
      ]
    },
    {
      "cell_type": "markdown",
      "metadata": {
        "id": "HZD6iGfrkYVu"
      },
      "source": [
        "In general, you can have multiple tracks for a given ontology term. In this case, we have 3 RNA-seq tracks for the tissue \"Right liver lobe\".\n",
        "\n",
        "Let's visualise these predictions. It's helpful visualise gene transcripts alongside the predicted tracks, so we extract them here:"
      ]
    },
    {
      "cell_type": "code",
      "execution_count": 17,
      "metadata": {
        "executionInfo": {
          "elapsed": 272,
          "status": "ok",
          "timestamp": 1753109239777,
          "user": {
            "displayName": "",
            "userId": ""
          },
          "user_tz": -60
        },
        "id": "zU61GXrekYVu",
        "outputId": "ecdb6667-e39f-4ef7-8310-9792a320a7b8"
      },
      "outputs": [
        {
          "name": "stdout",
          "output_type": "stream",
          "text": [
            "Extracted 29 transcripts in this interval.\n"
          ]
        }
      ],
      "source": [
        "longest_transcripts = transcript_extractor.extract(interval)\n",
        "print(f'Extracted {len(longest_transcripts)} transcripts in this interval.')"
      ]
    },
    {
      "cell_type": "markdown",
      "metadata": {
        "id": "9hUwvkl_kYVu"
      },
      "source": [
        "We also provide a [visualization basics guide](https://www.alphagenomedocs.com/visualization_library_basics.html) that integrates nicely with `TrackData` and other objects returned by the model API."
      ]
    },
    {
      "cell_type": "code",
      "execution_count": 18,
      "metadata": {
        "colab": {
          "height": 303
        },
        "executionInfo": {
          "elapsed": 2751,
          "status": "ok",
          "timestamp": 1753109242792,
          "user": {
            "displayName": "",
            "userId": ""
          },
          "user_tz": -60
        },
        "id": "MjJsLGnGkYVu",
        "outputId": "02c40a69-9213-47c8-c33d-49a889f9f25a"
      },
      "outputs": [
        {
          "data": {
            "image/png": "[encoded data removed]",
            "text/plain": [
              "\u003cFigure size 1440x320.4 with 4 Axes\u003e"
            ]
          },
          "metadata": {
            "image/png": {
              "height": 286,
              "width": 1406
            },
            "needs_background": "light"
          },
          "output_type": "display_data"
        }
      ],
      "source": [
        "plot_components.plot(\n",
        "    components=[\n",
        "        plot_components.TranscriptAnnotation(longest_transcripts),\n",
        "        plot_components.Tracks(output.rna_seq),\n",
        "    ],\n",
        "    interval=output.rna_seq.interval,\n",
        ")\n",
        "\n",
        "plt.show()"
      ]
    },
    {
      "cell_type": "markdown",
      "metadata": {
        "id": "uBtGbT0skYVu"
      },
      "source": [
        "This plot visualises the 3 predicted RNA-seq tracks and also marks the location of the longest transcript per gene in the 1MB region.\n",
        "\n",
        "We can zoom in to the middle of the plot by resizing the interval:\n"
      ]
    },
    {
      "cell_type": "code",
      "execution_count": 19,
      "metadata": {
        "colab": {
          "height": 278
        },
        "executionInfo": {
          "elapsed": 911,
          "status": "ok",
          "timestamp": 1753109244010,
          "user": {
            "displayName": "",
            "userId": ""
          },
          "user_tz": -60
        },
        "id": "J8_0AvHbkYVu",
        "outputId": "895ebbc1-0477-408d-f3f7-64b46effa3d2"
      },
      "outputs": [
        {
          "data": {
            "image/png": "[encoded data removed]",
            "text/plain": [
              "\u003cFigure size 1440x288 with 4 Axes\u003e"
            ]
          },
          "metadata": {
            "image/png": {
              "height": 261,
              "width": 1406
            },
            "needs_background": "light"
          },
          "output_type": "display_data"
        }
      ],
      "source": [
        "plot_components.plot(\n",
        "    components=[\n",
        "        plot_components.TranscriptAnnotation(\n",
        "            longest_transcripts, fig_height=0.1\n",
        "        ),\n",
        "        plot_components.Tracks(output.rna_seq),\n",
        "    ],\n",
        "    interval=output.rna_seq.interval.resize(2**15),\n",
        ")\n",
        "\n",
        "plt.show()"
      ]
    },
    {
      "cell_type": "markdown",
      "metadata": {
        "id": "1o5l2yUGkYVu"
      },
      "source": [
        "You can see here that predicted RNA-seq values are nicely aligned with the location of exons, and that the predictions are stranded – the predicted values are much higher for the positive strand, where the gene is located. We see that the *CYP2B6* gene is on the positive strand since the arrows in the transcript go from left to right.\n",
        "\n",
        "For more detail on the visualization library, please refer to the [visualization basics guide](https://www.alphagenomedocs.com/visualization_library_basics.html) and [library documentation](https://www.alphagenomedocs.com/api/visualization.html)."
      ]
    },
    {
      "cell_type": "markdown",
      "metadata": {
        "id": "rPQJQirLkYVu"
      },
      "source": [
        "## Predict variant effects\n",
        "\n"
      ]
    },
    {
      "cell_type": "markdown",
      "metadata": {
        "id": "ktZ0PqhQkYVu"
      },
      "source": [
        "We can predict the effect of a variant on a specific output type and tissue by making predictions for the reference (REF) and alternative (ALT) allele sequences.\n",
        "\n",
        "We specify the variant by defining a `genome.Variant` object. The specific variant below is a known variant affecting gene expression in colon tissue:"
      ]
    },
    {
      "cell_type": "code",
      "execution_count": 20,
      "metadata": {
        "executionInfo": {
          "elapsed": 1,
          "status": "ok",
          "timestamp": 1753109244322,
          "user": {
            "displayName": "",
            "userId": ""
          },
          "user_tz": -60
        },
        "id": "YaxavVV_kYVu"
      },
      "outputs": [],
      "source": [
        "variant = genome.Variant(\n",
        "    chromosome='chr22',\n",
        "    position=36201698,\n",
        "    reference_bases='A',  # Can differ from the true reference genome base.\n",
        "    alternate_bases='C',\n",
        ")"
      ]
    },
    {
      "cell_type": "markdown",
      "metadata": {
        "id": "HE2_iU6akYVu"
      },
      "source": [
        "Next, we define the interval over which to make the REF and ALT predictions. A quick way to get a `genome.Interval` from a `genome.Variant` is by calling `.reference_interval`, which we can resize to a model-compatible sequence length:"
      ]
    },
    {
      "cell_type": "code",
      "execution_count": 21,
      "metadata": {
        "executionInfo": {
          "elapsed": 2,
          "status": "ok",
          "timestamp": 1753109244601,
          "user": {
            "displayName": "",
            "userId": ""
          },
          "user_tz": -60
        },
        "id": "0jxThai2kYVu"
      },
      "outputs": [],
      "source": [
        "interval = variant.reference_interval.resize(dna_client.SEQUENCE_LENGTH_1MB)"
      ]
    },
    {
      "cell_type": "markdown",
      "metadata": {
        "id": "Oupoz0bGkYVu"
      },
      "source": [
        "We then use `predict_variant` to get the REF and ALT RNA-seq predictions in the interval for \"Colon - Transverse\" tissue (`UBERON:0001157`):"
      ]
    },
    {
      "cell_type": "code",
      "execution_count": 22,
      "metadata": {
        "executionInfo": {
          "elapsed": 1684,
          "status": "ok",
          "timestamp": 1753109246555,
          "user": {
            "displayName": "",
            "userId": ""
          },
          "user_tz": -60
        },
        "id": "TZbfcADGkYVu"
      },
      "outputs": [],
      "source": [
        "variant_output = dna_model.predict_variant(\n",
        "    interval=interval,\n",
        "    variant=variant,\n",
        "    requested_outputs=[dna_client.OutputType.RNA_SEQ],\n",
        "    ontology_terms=['UBERON:0001157'],\n",
        ")  # Colon - Transverse."
      ]
    },
    {
      "cell_type": "markdown",
      "metadata": {
        "id": "YzYgHwSAkYVu"
      },
      "source": [
        "We can plot the predicted REF and ALT values as a single plot and zoom in on the affected gene to better visualise the variant's effect on gene expression:"
      ]
    },
    {
      "cell_type": "code",
      "execution_count": 23,
      "metadata": {
        "colab": {
          "height": 333
        },
        "executionInfo": {
          "elapsed": 1111,
          "status": "ok",
          "timestamp": 1753109247940,
          "user": {
            "displayName": "",
            "userId": ""
          },
          "user_tz": -60
        },
        "id": "_OTUiWNjkYVu",
        "outputId": "f5bd99c5-06c8-41c4-f06b-381d2cbf4a8e"
      },
      "outputs": [
        {
          "data": {
            "image/png": "[encoded data removed]",
            "text/plain": [
              "\u003cFigure size 1440x360 with 5 Axes\u003e"
            ]
          },
          "metadata": {
            "image/png": {
              "height": 316,
              "width": 1472
            },
            "needs_background": "light"
          },
          "output_type": "display_data"
        }
      ],
      "source": [
        "longest_transcripts = transcript_extractor.extract(interval)\n",
        "\n",
        "plot_components.plot(\n",
        "    [\n",
        "        plot_components.TranscriptAnnotation(longest_transcripts),\n",
        "        plot_components.OverlaidTracks(\n",
        "            tdata={\n",
        "                'REF': variant_output.reference.rna_seq,\n",
        "                'ALT': variant_output.alternate.rna_seq,\n",
        "            },\n",
        "            colors={'REF': 'dimgrey', 'ALT': 'red'},\n",
        "        ),\n",
        "    ],\n",
        "    interval=variant_output.reference.rna_seq.interval.resize(2**15),\n",
        "    # Annotate the location of the variant as a vertical line.\n",
        "    annotations=[plot_components.VariantAnnotation([variant], alpha=0.8)],\n",
        ")\n",
        "plt.show()"
      ]
    },
    {
      "cell_type": "markdown",
      "metadata": {
        "id": "dSz201LRkYVu"
      },
      "source": [
        "We see that the ALT allele (base 'C' at position 36201698) is associated with both lower expression and an exon skipping event in the *APOL4* gene on the negative strand. Note that we can ignore the uppermost line plot which shows a very minimal predicted amount of expression on the positive DNA strand (check the y axis scales). It is possible to adjust the y axes limits, see [visualization basics](https://www.alphagenomedocs.com/visualization_library_basics.html#visualization-library-basics) and [library documentation](https://www.alphagenomedocs.com/api/visualization.html)."
      ]
    },
    {
      "cell_type": "markdown",
      "metadata": {
        "id": "7s4bDxczkYVu"
      },
      "source": [
        "## Scoring the effect of a genetic variant"
      ]
    },
    {
      "cell_type": "markdown",
      "metadata": {
        "id": "8fTtdkpM-Ycm"
      },
      "source": [
        "Scoring the effect of a genetic variant involves making predictions for the REF and ALT sequences and aggregating the track signal. This is implemented in `score_variant`, which uses specific `variant_scorer` configs for aggregation.\n",
        "\n",
        "We provide a set of recommended variant scoring configurations as a dictionary (`variant_scorers.RECOMMENDED_VARIANT_SCORERS`), covering all output types, which we have assessed for their performance at domain-specific tasks. See the [variant scoring documentation](https://www.alphagenomedocs.com/variant_scoring.html) for more information. Here is a quick demo:"
      ]
    },
    {
      "cell_type": "code",
      "execution_count": 24,
      "metadata": {
        "executionInfo": {
          "elapsed": 1392,
          "status": "ok",
          "timestamp": 1753109249643,
          "user": {
            "displayName": "",
            "userId": ""
          },
          "user_tz": -60
        },
        "id": "Aj_T3sE8kYVu"
      },
      "outputs": [],
      "source": [
        "variant_scorer = variant_scorers.RECOMMENDED_VARIANT_SCORERS['RNA_SEQ']\n",
        "\n",
        "variant_scores = dna_model.score_variant(\n",
        "    interval=interval, variant=variant, variant_scorers=[variant_scorer]\n",
        ")"
      ]
    },
    {
      "cell_type": "markdown",
      "metadata": {
        "id": "ncUCGp0JkYVu"
      },
      "source": [
        "The returned `variant_scores` is a list of length 1 because we only specified 1 scorer:"
      ]
    },
    {
      "cell_type": "code",
      "execution_count": 25,
      "metadata": {
        "executionInfo": {
          "elapsed": 2,
          "status": "ok",
          "timestamp": 1753109249898,
          "user": {
            "displayName": "",
            "userId": ""
          },
          "user_tz": -60
        },
        "id": "xI2aR0OtkYVu",
        "outputId": "26fca690-adde-4e73-c855-da6a696d3544"
      },
      "outputs": [
        {
          "data": {
            "text/plain": [
              "1"
            ]
          },
          "execution_count": 25,
          "metadata": {},
          "output_type": "execute_result"
        }
      ],
      "source": [
        "len(variant_scores)"
      ]
    },
    {
      "cell_type": "markdown",
      "metadata": {
        "id": "Oow5vOLVkYVu"
      },
      "source": [
        "The actual scores per variant are in `AnnData` format, which is a way of annotating data (the numerical scores) with additional information about the rows and columns."
      ]
    },
    {
      "cell_type": "code",
      "execution_count": 26,
      "metadata": {
        "executionInfo": {
          "elapsed": 52,
          "status": "ok",
          "timestamp": 1753109250229,
          "user": {
            "displayName": "",
            "userId": ""
          },
          "user_tz": -60
        },
        "id": "WCy_9aQ2kYVu",
        "outputId": "6eb63a5c-3fc2-4ea0-cc72-da399b6fa1be"
      },
      "outputs": [
        {
          "data": {
            "text/plain": [
              "AnnData object with n_obs × n_vars = 37 × 667\n",
              "    obs: 'gene_id', 'strand', 'gene_name', 'gene_type'\n",
              "    var: 'name', 'strand', 'Assay title', 'ontology_curie', 'biosample_name', 'biosample_type', 'biosample_life_stage', 'gtex_tissue', 'data_source', 'endedness', 'genetically_modified', 'nonzero_mean'\n",
              "    uns: 'interval', 'variant', 'variant_scorer'\n",
              "    layers: 'quantiles'"
            ]
          },
          "execution_count": 26,
          "metadata": {},
          "output_type": "execute_result"
        }
      ],
      "source": [
        "variant_scores = variant_scores[0]\n",
        "variant_scores"
      ]
    },
    {
      "cell_type": "markdown",
      "metadata": {
        "id": "2URPdQGtkYVu"
      },
      "source": [
        "`AnnData` objects have the following components:"
      ]
    },
    {
      "cell_type": "markdown",
      "metadata": {
        "id": "ssPveqJvkYVu"
      },
      "source": [
        "\u003ca href=\"https://services.google.com/fh/files/misc/anndata.png\"\u003e\u003cimg src=\"https://services.google.com/fh/files/misc/anndata.png\" alt=\"anndata\" border=\"0\" height=500\u003e\u003c/a\u003e"
      ]
    },
    {
      "cell_type": "markdown",
      "metadata": {
        "id": "X1u94SdOkYVu"
      },
      "source": [
        "We have a variant effect score for each of the 37 genes in the interval and each of the 667 `RNA_SEQ` tracks:"
      ]
    },
    {
      "cell_type": "code",
      "execution_count": 27,
      "metadata": {
        "executionInfo": {
          "elapsed": 53,
          "status": "ok",
          "timestamp": 1753109250568,
          "user": {
            "displayName": "",
            "userId": ""
          },
          "user_tz": -60
        },
        "id": "eyv_SHT_kYVu",
        "outputId": "47222d24-dd51-4157-e601-342eee991b10"
      },
      "outputs": [
        {
          "data": {
            "text/plain": [
              "(37, 667)"
            ]
          },
          "execution_count": 27,
          "metadata": {},
          "output_type": "execute_result"
        }
      ],
      "source": [
        "variant_scores.X.shape"
      ]
    },
    {
      "cell_type": "markdown",
      "metadata": {
        "id": "-3cT3a6FkYVu"
      },
      "source": [
        "We can access information on the 37 genes using `.obs`. Here are just first 5 genes:"
      ]
    },
    {
      "cell_type": "code",
      "execution_count": 28,
      "metadata": {
        "colab": {
          "height": 206
        },
        "executionInfo": {
          "elapsed": 56,
          "status": "ok",
          "timestamp": 1753109250888,
          "user": {
            "displayName": "",
            "userId": ""
          },
          "user_tz": -60
        },
        "id": "AQBAsm2skYVu",
        "outputId": "ac40988a-3ba6-446e-ebd4-8091208dabab"
      },
      "outputs": [
        {
          "data": {
            "application/vnd.google.colaboratory.intrinsic+json": {
              "summary": "{\n  \"name\": \"variant_scores\",\n  \"rows\": 5,\n  \"fields\": [\n    {\n      \"column\": \"gene_id\",\n      \"properties\": {\n        \"dtype\": \"string\",\n        \"num_unique_values\": 5,\n        \"samples\": [\n          \"ENSG00000100336.18\",\n          \"ENSG00000100348.10\",\n          \"ENSG00000100342.22\"\n        ],\n        \"semantic_type\": \"\",\n        \"description\": \"\"\n      }\n    },\n    {\n      \"column\": \"strand\",\n      \"properties\": {\n        \"dtype\": \"category\",\n        \"num_unique_values\": 2,\n        \"samples\": [\n          \"+\",\n          \"-\"\n        ],\n        \"semantic_type\": \"\",\n        \"description\": \"\"\n      }\n    },\n    {\n      \"column\": \"gene_name\",\n      \"properties\": {\n        \"dtype\": \"string\",\n        \"num_unique_values\": 5,\n        \"samples\": [\n          \"APOL4\",\n          \"TXN2\"\n        ],\n        \"semantic_type\": \"\",\n        \"description\": \"\"\n      }\n    },\n    {\n      \"column\": \"gene_type\",\n      \"properties\": {\n        \"dtype\": \"category\",\n        \"num_unique_values\": 1,\n        \"samples\": [\n          \"protein_coding\"\n        ],\n        \"semantic_type\": \"\",\n        \"description\": \"\"\n      }\n    }\n  ]\n}",
              "type": "dataframe"
            },
            "text/html": [
              "\n",
              "  \u003cdiv id=\"df-a679d697-8b28-4c6f-ad3a-febf1a349c85\" class=\"colab-df-container\"\u003e\n",
              "    \u003cdiv\u003e\n",
              "\u003cstyle scoped\u003e\n",
              "    .dataframe tbody tr th:only-of-type {\n",
              "        vertical-align: middle;\n",
              "    }\n",
              "\n",
              "    .dataframe tbody tr th {\n",
              "        vertical-align: top;\n",
              "    }\n",
              "\n",
              "    .dataframe thead th {\n",
              "        text-align: right;\n",
              "    }\n",
              "\u003c/style\u003e\n",
              "\u003ctable border=\"1\" class=\"dataframe\"\u003e\n",
              "  \u003cthead\u003e\n",
              "    \u003ctr style=\"text-align: right;\"\u003e\n",
              "      \u003cth\u003e\u003c/th\u003e\n",
              "      \u003cth\u003egene_id\u003c/th\u003e\n",
              "      \u003cth\u003estrand\u003c/th\u003e\n",
              "      \u003cth\u003egene_name\u003c/th\u003e\n",
              "      \u003cth\u003egene_type\u003c/th\u003e\n",
              "    \u003c/tr\u003e\n",
              "  \u003c/thead\u003e\n",
              "  \u003ctbody\u003e\n",
              "    \u003ctr\u003e\n",
              "      \u003cth\u003e0\u003c/th\u003e\n",
              "      \u003ctd\u003eENSG00000100320.24\u003c/td\u003e\n",
              "      \u003ctd\u003e-\u003c/td\u003e\n",
              "      \u003ctd\u003eRBFOX2\u003c/td\u003e\n",
              "      \u003ctd\u003eprotein_coding\u003c/td\u003e\n",
              "    \u003c/tr\u003e\n",
              "    \u003ctr\u003e\n",
              "      \u003cth\u003e1\u003c/th\u003e\n",
              "      \u003ctd\u003eENSG00000100336.18\u003c/td\u003e\n",
              "      \u003ctd\u003e-\u003c/td\u003e\n",
              "      \u003ctd\u003eAPOL4\u003c/td\u003e\n",
              "      \u003ctd\u003eprotein_coding\u003c/td\u003e\n",
              "    \u003c/tr\u003e\n",
              "    \u003ctr\u003e\n",
              "      \u003cth\u003e2\u003c/th\u003e\n",
              "      \u003ctd\u003eENSG00000100342.22\u003c/td\u003e\n",
              "      \u003ctd\u003e+\u003c/td\u003e\n",
              "      \u003ctd\u003eAPOL1\u003c/td\u003e\n",
              "      \u003ctd\u003eprotein_coding\u003c/td\u003e\n",
              "    \u003c/tr\u003e\n",
              "    \u003ctr\u003e\n",
              "      \u003cth\u003e3\u003c/th\u003e\n",
              "      \u003ctd\u003eENSG00000100345.23\u003c/td\u003e\n",
              "      \u003ctd\u003e-\u003c/td\u003e\n",
              "      \u003ctd\u003eMYH9\u003c/td\u003e\n",
              "      \u003ctd\u003eprotein_coding\u003c/td\u003e\n",
              "    \u003c/tr\u003e\n",
              "    \u003ctr\u003e\n",
              "      \u003cth\u003e4\u003c/th\u003e\n",
              "      \u003ctd\u003eENSG00000100348.10\u003c/td\u003e\n",
              "      \u003ctd\u003e-\u003c/td\u003e\n",
              "      \u003ctd\u003eTXN2\u003c/td\u003e\n",
              "      \u003ctd\u003eprotein_coding\u003c/td\u003e\n",
              "    \u003c/tr\u003e\n",
              "  \u003c/tbody\u003e\n",
              "\u003c/table\u003e\n",
              "\u003c/div\u003e\n",
              "    \u003cdiv class=\"colab-df-buttons\"\u003e\n",
              "\n",
              "  \u003cdiv class=\"colab-df-container\"\u003e\n",
              "    \u003cbutton class=\"colab-df-convert\" onclick=\"convertToInteractive('df-a679d697-8b28-4c6f-ad3a-febf1a349c85')\"\n",
              "            title=\"Convert this dataframe to an interactive table.\"\n",
              "            style=\"display:none;\"\u003e\n",
              "\n",
              "  \u003csvg xmlns=\"http://www.w3.org/2000/svg\" height=\"24px\" viewBox=\"0 -960 960 960\"\u003e\n",
              "    \u003cpath d=\"M120-120v-720h720v720H120Zm60-500h600v-160H180v160Zm220 220h160v-160H400v160Zm0 220h160v-160H400v160ZM180-400h160v-160H180v160Zm440 0h160v-160H620v160ZM180-180h160v-160H180v160Zm440 0h160v-160H620v160Z\"/\u003e\n",
              "  \u003c/svg\u003e\n",
              "    \u003c/button\u003e\n",
              "\n",
              "  \u003cstyle\u003e\n",
              "    .colab-df-container {\n",
              "      display:flex;\n",
              "      gap: 12px;\n",
              "    }\n",
              "\n",
              "    .colab-df-convert {\n",
              "      background-color: #E8F0FE;\n",
              "      border: none;\n",
              "      border-radius: 50%;\n",
              "      cursor: pointer;\n",
              "      display: none;\n",
              "      fill: #1967D2;\n",
              "      height: 32px;\n",
              "      padding: 0 0 0 0;\n",
              "      width: 32px;\n",
              "    }\n",
              "\n",
              "    .colab-df-convert:hover {\n",
              "      background-color: #E2EBFA;\n",
              "      box-shadow: 0px 1px 2px rgba(60, 64, 67, 0.3), 0px 1px 3px 1px rgba(60, 64, 67, 0.15);\n",
              "      fill: #174EA6;\n",
              "    }\n",
              "\n",
              "    .colab-df-buttons div {\n",
              "      margin-bottom: 4px;\n",
              "    }\n",
              "\n",
              "    [theme=dark] .colab-df-convert {\n",
              "      background-color: #3B4455;\n",
              "      fill: #D2E3FC;\n",
              "    }\n",
              "\n",
              "    [theme=dark] .colab-df-convert:hover {\n",
              "      background-color: #434B5C;\n",
              "      box-shadow: 0px 1px 3px 1px rgba(0, 0, 0, 0.15);\n",
              "      filter: drop-shadow(0px 1px 2px rgba(0, 0, 0, 0.3));\n",
              "      fill: #FFFFFF;\n",
              "    }\n",
              "  \u003c/style\u003e\n",
              "\n",
              "    \u003cscript\u003e\n",
              "      const buttonEl =\n",
              "        document.querySelector('#df-a679d697-8b28-4c6f-ad3a-febf1a349c85 button.colab-df-convert');\n",
              "      buttonEl.style.display =\n",
              "        google.colab.kernel.accessAllowed ? 'block' : 'none';\n",
              "\n",
              "      async function convertToInteractive(key) {\n",
              "        const element = document.querySelector('#df-a679d697-8b28-4c6f-ad3a-febf1a349c85');\n",
              "        const dataTable =\n",
              "          await google.colab.kernel.invokeFunction('convertToInteractive',\n",
              "                                                    [key], {});\n",
              "        if (!dataTable) return;\n",
              "\n",
              "        const docLinkHtml = 'Like what you see? Visit the ' +\n",
              "          '\u003ca target=\"_blank\" href=https://colab.research.google.com/notebooks/data_table.ipynb\u003edata table notebook\u003c/a\u003e'\n",
              "          + ' to learn more about interactive tables.';\n",
              "        element.innerHTML = '';\n",
              "        dataTable['output_type'] = 'display_data';\n",
              "        await google.colab.output.renderOutput(dataTable, element);\n",
              "        const docLink = document.createElement('div');\n",
              "        docLink.innerHTML = docLinkHtml;\n",
              "        element.appendChild(docLink);\n",
              "      }\n",
              "    \u003c/script\u003e\n",
              "  \u003c/div\u003e\n",
              "\n",
              "\n",
              "    \u003cdiv id=\"df-a1a884d5-1db3-44cd-9183-cc128523430b\"\u003e\n",
              "      \u003cbutton class=\"colab-df-quickchart\" onclick=\"quickchart('df-a1a884d5-1db3-44cd-9183-cc128523430b')\"\n",
              "                title=\"Suggest charts\"\n",
              "                style=\"display:none;\"\u003e\n",
              "\n",
              "\u003csvg xmlns=\"http://www.w3.org/2000/svg\" height=\"24px\"viewBox=\"0 0 24 24\"\n",
              "     width=\"24px\"\u003e\n",
              "    \u003cg\u003e\n",
              "        \u003cpath d=\"M19 3H5c-1.1 0-2 .9-2 2v14c0 1.1.9 2 2 2h14c1.1 0 2-.9 2-2V5c0-1.1-.9-2-2-2zM9 17H7v-7h2v7zm4 0h-2V7h2v10zm4 0h-2v-4h2v4z\"/\u003e\n",
              "    \u003c/g\u003e\n",
              "\u003c/svg\u003e\n",
              "      \u003c/button\u003e\n",
              "\n",
              "\u003cstyle\u003e\n",
              "  .colab-df-quickchart {\n",
              "      --bg-color: #E8F0FE;\n",
              "      --fill-color: #1967D2;\n",
              "      --hover-bg-color: #E2EBFA;\n",
              "      --hover-fill-color: #174EA6;\n",
              "      --disabled-fill-color: #AAA;\n",
              "      --disabled-bg-color: #DDD;\n",
              "  }\n",
              "\n",
              "  [theme=dark] .colab-df-quickchart {\n",
              "      --bg-color: #3B4455;\n",
              "      --fill-color: #D2E3FC;\n",
              "      --hover-bg-color: #434B5C;\n",
              "      --hover-fill-color: #FFFFFF;\n",
              "      --disabled-bg-color: #3B4455;\n",
              "      --disabled-fill-color: #666;\n",
              "  }\n",
              "\n",
              "  .colab-df-quickchart {\n",
              "    background-color: var(--bg-color);\n",
              "    border: none;\n",
              "    border-radius: 50%;\n",
              "    cursor: pointer;\n",
              "    display: none;\n",
              "    fill: var(--fill-color);\n",
              "    height: 32px;\n",
              "    padding: 0;\n",
              "    width: 32px;\n",
              "  }\n",
              "\n",
              "  .colab-df-quickchart:hover {\n",
              "    background-color: var(--hover-bg-color);\n",
              "    box-shadow: 0 1px 2px rgba(60, 64, 67, 0.3), 0 1px 3px 1px rgba(60, 64, 67, 0.15);\n",
              "    fill: var(--button-hover-fill-color);\n",
              "  }\n",
              "\n",
              "  .colab-df-quickchart-complete:disabled,\n",
              "  .colab-df-quickchart-complete:disabled:hover {\n",
              "    background-color: var(--disabled-bg-color);\n",
              "    fill: var(--disabled-fill-color);\n",
              "    box-shadow: none;\n",
              "  }\n",
              "\n",
              "  .colab-df-spinner {\n",
              "    border: 2px solid var(--fill-color);\n",
              "    border-color: transparent;\n",
              "    border-bottom-color: var(--fill-color);\n",
              "    animation:\n",
              "      spin 1s steps(1) infinite;\n",
              "  }\n",
              "\n",
              "  @keyframes spin {\n",
              "    0% {\n",
              "      border-color: transparent;\n",
              "      border-bottom-color: var(--fill-color);\n",
              "      border-left-color: var(--fill-color);\n",
              "    }\n",
              "    20% {\n",
              "      border-color: transparent;\n",
              "      border-left-color: var(--fill-color);\n",
              "      border-top-color: var(--fill-color);\n",
              "    }\n",
              "    30% {\n",
              "      border-color: transparent;\n",
              "      border-left-color: var(--fill-color);\n",
              "      border-top-color: var(--fill-color);\n",
              "      border-right-color: var(--fill-color);\n",
              "    }\n",
              "    40% {\n",
              "      border-color: transparent;\n",
              "      border-right-color: var(--fill-color);\n",
              "      border-top-color: var(--fill-color);\n",
              "    }\n",
              "    60% {\n",
              "      border-color: transparent;\n",
              "      border-right-color: var(--fill-color);\n",
              "    }\n",
              "    80% {\n",
              "      border-color: transparent;\n",
              "      border-right-color: var(--fill-color);\n",
              "      border-bottom-color: var(--fill-color);\n",
              "    }\n",
              "    90% {\n",
              "      border-color: transparent;\n",
              "      border-bottom-color: var(--fill-color);\n",
              "    }\n",
              "  }\n",
              "\u003c/style\u003e\n",
              "\n",
              "      \u003cscript\u003e\n",
              "        async function quickchart(key) {\n",
              "          const quickchartButtonEl =\n",
              "            document.querySelector('#' + key + ' button');\n",
              "          quickchartButtonEl.disabled = true;  // To prevent multiple clicks.\n",
              "          quickchartButtonEl.classList.add('colab-df-spinner');\n",
              "          try {\n",
              "            const charts = await google.colab.kernel.invokeFunction(\n",
              "                'suggestCharts', [key], {});\n",
              "          } catch (error) {\n",
              "            console.error('Error during call to suggestCharts:', error);\n",
              "          }\n",
              "          quickchartButtonEl.classList.remove('colab-df-spinner');\n",
              "          quickchartButtonEl.classList.add('colab-df-quickchart-complete');\n",
              "        }\n",
              "        (() =\u003e {\n",
              "          let quickchartButtonEl =\n",
              "            document.querySelector('#df-a1a884d5-1db3-44cd-9183-cc128523430b button');\n",
              "          quickchartButtonEl.style.display =\n",
              "            google.colab.kernel.accessAllowed ? 'block' : 'none';\n",
              "        })();\n",
              "      \u003c/script\u003e\n",
              "    \u003c/div\u003e\n",
              "    \u003c/div\u003e\n",
              "  \u003c/div\u003e\n"
            ],
            "text/plain": [
              "              gene_id strand gene_name       gene_type\n",
              "0  ENSG00000100320.24      -    RBFOX2  protein_coding\n",
              "1  ENSG00000100336.18      -     APOL4  protein_coding\n",
              "2  ENSG00000100342.22      +     APOL1  protein_coding\n",
              "3  ENSG00000100345.23      -      MYH9  protein_coding\n",
              "4  ENSG00000100348.10      -      TXN2  protein_coding"
            ]
          },
          "execution_count": 28,
          "metadata": {},
          "output_type": "execute_result"
        }
      ],
      "source": [
        "variant_scores.obs.head()"
      ]
    },
    {
      "cell_type": "markdown",
      "metadata": {
        "id": "p6mVhremkYVu"
      },
      "source": [
        "Note that if you are using a variant scorer that is not gene-specific (i.e., a `variant_scorers.CenterMaskScorer`), then `variant_scores.X` would have shape `(1, 667)` and there will be no gene metadata available since there is no concept of genes in this scenario.\n",
        "\n",
        "The description of each track is accessed using `.var` (this is the same dataframe as the output metadata, but is included alongside the variant scores for convenience):"
      ]
    },
    {
      "cell_type": "code",
      "execution_count": 29,
      "metadata": {
        "colab": {
          "height": 930
        },
        "executionInfo": {
          "elapsed": 105,
          "status": "ok",
          "timestamp": 1753109251278,
          "user": {
            "displayName": "",
            "userId": ""
          },
          "user_tz": -60
        },
        "id": "J_VRdJMakYVu",
        "outputId": "4f356be9-0ca6-4ef6-fff2-ed94573e4aac"
      },
      "outputs": [
        {
          "data": {
            "application/vnd.google.colaboratory.intrinsic+json": {
              "summary": "{\n  \"name\": \"variant_scores\",\n  \"rows\": 667,\n  \"fields\": [\n    {\n      \"column\": \"name\",\n      \"properties\": {\n        \"dtype\": \"string\",\n        \"num_unique_values\": 371,\n        \"samples\": [\n          \"UBERON:0001873 gtex Brain_Caudate_basal_ganglia polyA plus RNA-seq\",\n          \"CL:0000792 total RNA-seq\",\n          \"CL:0000223 polyA plus RNA-seq\"\n        ],\n        \"semantic_type\": \"\",\n        \"description\": \"\"\n      }\n    },\n    {\n      \"column\": \"strand\",\n      \"properties\": {\n        \"dtype\": \"category\",\n        \"num_unique_values\": 3,\n        \"samples\": [\n          \"+\",\n          \"-\",\n          \".\"\n        ],\n        \"semantic_type\": \"\",\n        \"description\": \"\"\n      }\n    },\n    {\n      \"column\": \"Assay title\",\n      \"properties\": {\n        \"dtype\": \"category\",\n        \"num_unique_values\": 2,\n        \"samples\": [\n          \"total RNA-seq\",\n          \"polyA plus RNA-seq\"\n        ],\n        \"semantic_type\": \"\",\n        \"description\": \"\"\n      }\n    },\n    {\n      \"column\": \"ontology_curie\",\n      \"properties\": {\n        \"dtype\": \"category\",\n        \"num_unique_values\": 285,\n        \"samples\": [\n          \"CL:0000182\",\n          \"NTR:0000524\"\n        ],\n        \"semantic_type\": \"\",\n        \"description\": \"\"\n      }\n    },\n    {\n      \"column\": \"biosample_name\",\n      \"properties\": {\n        \"dtype\": \"category\",\n        \"num_unique_values\": 285,\n        \"samples\": [\n          \"hepatocyte\",\n          \"fibroblast of skin of scalp\"\n        ],\n        \"semantic_type\": \"\",\n        \"description\": \"\"\n      }\n    },\n    {\n      \"column\": \"biosample_type\",\n      \"properties\": {\n        \"dtype\": \"category\",\n        \"num_unique_values\": 4,\n        \"samples\": [\n          \"primary_cell\",\n          \"tissue\"\n        ],\n        \"semantic_type\": \"\",\n        \"description\": \"\"\n      }\n    },\n    {\n      \"column\": \"biosample_life_stage\",\n      \"properties\": {\n        \"dtype\": \"category\",\n        \"num_unique_values\": 10,\n        \"samples\": [\n          \"adult,unknown\",\n          \"adult\"\n        ],\n        \"semantic_type\": \"\",\n        \"description\": \"\"\n      }\n    },\n    {\n      \"column\": \"gtex_tissue\",\n      \"properties\": {\n        \"dtype\": \"category\",\n        \"num_unique_values\": 55,\n        \"samples\": [\n          \"Spleen\",\n          \"Testis\"\n        ],\n        \"semantic_type\": \"\",\n        \"description\": \"\"\n      }\n    },\n    {\n      \"column\": \"data_source\",\n      \"properties\": {\n        \"dtype\": \"category\",\n        \"num_unique_values\": 2,\n        \"samples\": [\n          \"gtex\",\n          \"encode\"\n        ],\n        \"semantic_type\": \"\",\n        \"description\": \"\"\n      }\n    },\n    {\n      \"column\": \"endedness\",\n      \"properties\": {\n        \"dtype\": \"category\",\n        \"num_unique_values\": 2,\n        \"samples\": [\n          \"single\",\n          \"paired\"\n        ],\n        \"semantic_type\": \"\",\n        \"description\": \"\"\n      }\n    },\n    {\n      \"column\": \"genetically_modified\",\n      \"properties\": {\n        \"dtype\": \"boolean\",\n        \"num_unique_values\": 1,\n        \"samples\": [\n          false\n        ],\n        \"semantic_type\": \"\",\n        \"description\": \"\"\n      }\n    },\n    {\n      \"column\": \"nonzero_mean\",\n      \"properties\": {\n        \"dtype\": \"number\",\n        \"std\": 0.16499713233184873,\n        \"min\": 0.03440511226654053,\n        \"max\": 1.3723630905151367,\n        \"num_unique_values\": 396,\n        \"samples\": [\n          0.189997598528862\n        ],\n        \"semantic_type\": \"\",\n        \"description\": \"\"\n      }\n    }\n  ]\n}",
              "type": "dataframe"
            },
            "text/html": [
              "\n",
              "  \u003cdiv id=\"df-088b86b2-8ca3-49a4-8b1e-980812a1c403\" class=\"colab-df-container\"\u003e\n",
              "    \u003cdiv\u003e\n",
              "\u003cstyle scoped\u003e\n",
              "    .dataframe tbody tr th:only-of-type {\n",
              "        vertical-align: middle;\n",
              "    }\n",
              "\n",
              "    .dataframe tbody tr th {\n",
              "        vertical-align: top;\n",
              "    }\n",
              "\n",
              "    .dataframe thead th {\n",
              "        text-align: right;\n",
              "    }\n",
              "\u003c/style\u003e\n",
              "\u003ctable border=\"1\" class=\"dataframe\"\u003e\n",
              "  \u003cthead\u003e\n",
              "    \u003ctr style=\"text-align: right;\"\u003e\n",
              "      \u003cth\u003e\u003c/th\u003e\n",
              "      \u003cth\u003ename\u003c/th\u003e\n",
              "      \u003cth\u003estrand\u003c/th\u003e\n",
              "      \u003cth\u003eAssay title\u003c/th\u003e\n",
              "      \u003cth\u003eontology_curie\u003c/th\u003e\n",
              "      \u003cth\u003ebiosample_name\u003c/th\u003e\n",
              "      \u003cth\u003ebiosample_type\u003c/th\u003e\n",
              "      \u003cth\u003ebiosample_life_stage\u003c/th\u003e\n",
              "      \u003cth\u003egtex_tissue\u003c/th\u003e\n",
              "      \u003cth\u003edata_source\u003c/th\u003e\n",
              "      \u003cth\u003eendedness\u003c/th\u003e\n",
              "      \u003cth\u003egenetically_modified\u003c/th\u003e\n",
              "      \u003cth\u003enonzero_mean\u003c/th\u003e\n",
              "    \u003c/tr\u003e\n",
              "  \u003c/thead\u003e\n",
              "  \u003ctbody\u003e\n",
              "    \u003ctr\u003e\n",
              "      \u003cth\u003e0\u003c/th\u003e\n",
              "      \u003ctd\u003eCL:0000047 polyA plus RNA-seq\u003c/td\u003e\n",
              "      \u003ctd\u003e+\u003c/td\u003e\n",
              "      \u003ctd\u003epolyA plus RNA-seq\u003c/td\u003e\n",
              "      \u003ctd\u003eCL:0000047\u003c/td\u003e\n",
              "      \u003ctd\u003eneuronal stem cell\u003c/td\u003e\n",
              "      \u003ctd\u003ein_vitro_differentiated_cells\u003c/td\u003e\n",
              "      \u003ctd\u003eembryonic\u003c/td\u003e\n",
              "      \u003ctd\u003e\u003c/td\u003e\n",
              "      \u003ctd\u003eencode\u003c/td\u003e\n",
              "      \u003ctd\u003epaired\u003c/td\u003e\n",
              "      \u003ctd\u003eFalse\u003c/td\u003e\n",
              "      \u003ctd\u003e0.143617\u003c/td\u003e\n",
              "    \u003c/tr\u003e\n",
              "    \u003ctr\u003e\n",
              "      \u003cth\u003e1\u003c/th\u003e\n",
              "      \u003ctd\u003eCL:0000062 total RNA-seq\u003c/td\u003e\n",
              "      \u003ctd\u003e+\u003c/td\u003e\n",
              "      \u003ctd\u003etotal RNA-seq\u003c/td\u003e\n",
              "      \u003ctd\u003eCL:0000062\u003c/td\u003e\n",
              "      \u003ctd\u003eosteoblast\u003c/td\u003e\n",
              "      \u003ctd\u003eprimary_cell\u003c/td\u003e\n",
              "      \u003ctd\u003eadult\u003c/td\u003e\n",
              "      \u003ctd\u003e\u003c/td\u003e\n",
              "      \u003ctd\u003eencode\u003c/td\u003e\n",
              "      \u003ctd\u003epaired\u003c/td\u003e\n",
              "      \u003ctd\u003eFalse\u003c/td\u003e\n",
              "      \u003ctd\u003e0.094144\u003c/td\u003e\n",
              "    \u003c/tr\u003e\n",
              "    \u003ctr\u003e\n",
              "      \u003cth\u003e2\u003c/th\u003e\n",
              "      \u003ctd\u003eCL:0000084 polyA plus RNA-seq\u003c/td\u003e\n",
              "      \u003ctd\u003e+\u003c/td\u003e\n",
              "      \u003ctd\u003epolyA plus RNA-seq\u003c/td\u003e\n",
              "      \u003ctd\u003eCL:0000084\u003c/td\u003e\n",
              "      \u003ctd\u003eT-cell\u003c/td\u003e\n",
              "      \u003ctd\u003eprimary_cell\u003c/td\u003e\n",
              "      \u003ctd\u003eadult\u003c/td\u003e\n",
              "      \u003ctd\u003e\u003c/td\u003e\n",
              "      \u003ctd\u003eencode\u003c/td\u003e\n",
              "      \u003ctd\u003epaired\u003c/td\u003e\n",
              "      \u003ctd\u003eFalse\u003c/td\u003e\n",
              "      \u003ctd\u003e0.124296\u003c/td\u003e\n",
              "    \u003c/tr\u003e\n",
              "    \u003ctr\u003e\n",
              "      \u003cth\u003e3\u003c/th\u003e\n",
              "      \u003ctd\u003eCL:0000084 total RNA-seq\u003c/td\u003e\n",
              "      \u003ctd\u003e+\u003c/td\u003e\n",
              "      \u003ctd\u003etotal RNA-seq\u003c/td\u003e\n",
              "      \u003ctd\u003eCL:0000084\u003c/td\u003e\n",
              "      \u003ctd\u003eT-cell\u003c/td\u003e\n",
              "      \u003ctd\u003eprimary_cell\u003c/td\u003e\n",
              "      \u003ctd\u003eadult\u003c/td\u003e\n",
              "      \u003ctd\u003e\u003c/td\u003e\n",
              "      \u003ctd\u003eencode\u003c/td\u003e\n",
              "      \u003ctd\u003esingle\u003c/td\u003e\n",
              "      \u003ctd\u003eFalse\u003c/td\u003e\n",
              "      \u003ctd\u003e0.100934\u003c/td\u003e\n",
              "    \u003c/tr\u003e\n",
              "    \u003ctr\u003e\n",
              "      \u003cth\u003e4\u003c/th\u003e\n",
              "      \u003ctd\u003eCL:0000115 total RNA-seq\u003c/td\u003e\n",
              "      \u003ctd\u003e+\u003c/td\u003e\n",
              "      \u003ctd\u003etotal RNA-seq\u003c/td\u003e\n",
              "      \u003ctd\u003eCL:0000115\u003c/td\u003e\n",
              "      \u003ctd\u003eendothelial cell\u003c/td\u003e\n",
              "      \u003ctd\u003ein_vitro_differentiated_cells\u003c/td\u003e\n",
              "      \u003ctd\u003eadult\u003c/td\u003e\n",
              "      \u003ctd\u003e\u003c/td\u003e\n",
              "      \u003ctd\u003eencode\u003c/td\u003e\n",
              "      \u003ctd\u003esingle\u003c/td\u003e\n",
              "      \u003ctd\u003eFalse\u003c/td\u003e\n",
              "      \u003ctd\u003e0.135553\u003c/td\u003e\n",
              "    \u003c/tr\u003e\n",
              "    \u003ctr\u003e\n",
              "      \u003cth\u003e...\u003c/th\u003e\n",
              "      \u003ctd\u003e...\u003c/td\u003e\n",
              "      \u003ctd\u003e...\u003c/td\u003e\n",
              "      \u003ctd\u003e...\u003c/td\u003e\n",
              "      \u003ctd\u003e...\u003c/td\u003e\n",
              "      \u003ctd\u003e...\u003c/td\u003e\n",
              "      \u003ctd\u003e...\u003c/td\u003e\n",
              "      \u003ctd\u003e...\u003c/td\u003e\n",
              "      \u003ctd\u003e...\u003c/td\u003e\n",
              "      \u003ctd\u003e...\u003c/td\u003e\n",
              "      \u003ctd\u003e...\u003c/td\u003e\n",
              "      \u003ctd\u003e...\u003c/td\u003e\n",
              "      \u003ctd\u003e...\u003c/td\u003e\n",
              "    \u003c/tr\u003e\n",
              "    \u003ctr\u003e\n",
              "      \u003cth\u003e662\u003c/th\u003e\n",
              "      \u003ctd\u003eUBERON:0018115 polyA plus RNA-seq\u003c/td\u003e\n",
              "      \u003ctd\u003e.\u003c/td\u003e\n",
              "      \u003ctd\u003epolyA plus RNA-seq\u003c/td\u003e\n",
              "      \u003ctd\u003eUBERON:0018115\u003c/td\u003e\n",
              "      \u003ctd\u003eleft renal pelvis\u003c/td\u003e\n",
              "      \u003ctd\u003etissue\u003c/td\u003e\n",
              "      \u003ctd\u003eembryonic\u003c/td\u003e\n",
              "      \u003ctd\u003e\u003c/td\u003e\n",
              "      \u003ctd\u003eencode\u003c/td\u003e\n",
              "      \u003ctd\u003esingle\u003c/td\u003e\n",
              "      \u003ctd\u003eFalse\u003c/td\u003e\n",
              "      \u003ctd\u003e0.268222\u003c/td\u003e\n",
              "    \u003c/tr\u003e\n",
              "    \u003ctr\u003e\n",
              "      \u003cth\u003e663\u003c/th\u003e\n",
              "      \u003ctd\u003eUBERON:0018116 polyA plus RNA-seq\u003c/td\u003e\n",
              "      \u003ctd\u003e.\u003c/td\u003e\n",
              "      \u003ctd\u003epolyA plus RNA-seq\u003c/td\u003e\n",
              "      \u003ctd\u003eUBERON:0018116\u003c/td\u003e\n",
              "      \u003ctd\u003eright renal pelvis\u003c/td\u003e\n",
              "      \u003ctd\u003etissue\u003c/td\u003e\n",
              "      \u003ctd\u003eembryonic\u003c/td\u003e\n",
              "      \u003ctd\u003e\u003c/td\u003e\n",
              "      \u003ctd\u003eencode\u003c/td\u003e\n",
              "      \u003ctd\u003esingle\u003c/td\u003e\n",
              "      \u003ctd\u003eFalse\u003c/td\u003e\n",
              "      \u003ctd\u003e0.258522\u003c/td\u003e\n",
              "    \u003c/tr\u003e\n",
              "    \u003ctr\u003e\n",
              "      \u003cth\u003e664\u003c/th\u003e\n",
              "      \u003ctd\u003eUBERON:0018117 polyA plus RNA-seq\u003c/td\u003e\n",
              "      \u003ctd\u003e.\u003c/td\u003e\n",
              "      \u003ctd\u003epolyA plus RNA-seq\u003c/td\u003e\n",
              "      \u003ctd\u003eUBERON:0018117\u003c/td\u003e\n",
              "      \u003ctd\u003eleft renal cortex interstitium\u003c/td\u003e\n",
              "      \u003ctd\u003etissue\u003c/td\u003e\n",
              "      \u003ctd\u003eembryonic\u003c/td\u003e\n",
              "      \u003ctd\u003e\u003c/td\u003e\n",
              "      \u003ctd\u003eencode\u003c/td\u003e\n",
              "      \u003ctd\u003esingle\u003c/td\u003e\n",
              "      \u003ctd\u003eFalse\u003c/td\u003e\n",
              "      \u003ctd\u003e0.215190\u003c/td\u003e\n",
              "    \u003c/tr\u003e\n",
              "    \u003ctr\u003e\n",
              "      \u003cth\u003e665\u003c/th\u003e\n",
              "      \u003ctd\u003eUBERON:0018118 polyA plus RNA-seq\u003c/td\u003e\n",
              "      \u003ctd\u003e.\u003c/td\u003e\n",
              "      \u003ctd\u003epolyA plus RNA-seq\u003c/td\u003e\n",
              "      \u003ctd\u003eUBERON:0018118\u003c/td\u003e\n",
              "      \u003ctd\u003eright renal cortex interstitium\u003c/td\u003e\n",
              "      \u003ctd\u003etissue\u003c/td\u003e\n",
              "      \u003ctd\u003eembryonic\u003c/td\u003e\n",
              "      \u003ctd\u003e\u003c/td\u003e\n",
              "      \u003ctd\u003eencode\u003c/td\u003e\n",
              "      \u003ctd\u003esingle\u003c/td\u003e\n",
              "      \u003ctd\u003eFalse\u003c/td\u003e\n",
              "      \u003ctd\u003e0.365676\u003c/td\u003e\n",
              "    \u003c/tr\u003e\n",
              "    \u003ctr\u003e\n",
              "      \u003cth\u003e666\u003c/th\u003e\n",
              "      \u003ctd\u003eUBERON:0036149 gtex Skin_Not_Sun_Exposed_Supra...\u003c/td\u003e\n",
              "      \u003ctd\u003e.\u003c/td\u003e\n",
              "      \u003ctd\u003epolyA plus RNA-seq\u003c/td\u003e\n",
              "      \u003ctd\u003eUBERON:0036149\u003c/td\u003e\n",
              "      \u003ctd\u003esuprapubic skin\u003c/td\u003e\n",
              "      \u003ctd\u003etissue\u003c/td\u003e\n",
              "      \u003ctd\u003eadult\u003c/td\u003e\n",
              "      \u003ctd\u003eSkin_Not_Sun_Exposed_Suprapubic\u003c/td\u003e\n",
              "      \u003ctd\u003egtex\u003c/td\u003e\n",
              "      \u003ctd\u003epaired\u003c/td\u003e\n",
              "      \u003ctd\u003eFalse\u003c/td\u003e\n",
              "      \u003ctd\u003e0.045404\u003c/td\u003e\n",
              "    \u003c/tr\u003e\n",
              "  \u003c/tbody\u003e\n",
              "\u003c/table\u003e\n",
              "\u003cp\u003e667 rows × 12 columns\u003c/p\u003e\n",
              "\u003c/div\u003e\n",
              "    \u003cdiv class=\"colab-df-buttons\"\u003e\n",
              "\n",
              "  \u003cdiv class=\"colab-df-container\"\u003e\n",
              "    \u003cbutton class=\"colab-df-convert\" onclick=\"convertToInteractive('df-088b86b2-8ca3-49a4-8b1e-980812a1c403')\"\n",
              "            title=\"Convert this dataframe to an interactive table.\"\n",
              "            style=\"display:none;\"\u003e\n",
              "\n",
              "  \u003csvg xmlns=\"http://www.w3.org/2000/svg\" height=\"24px\" viewBox=\"0 -960 960 960\"\u003e\n",
              "    \u003cpath d=\"M120-120v-720h720v720H120Zm60-500h600v-160H180v160Zm220 220h160v-160H400v160Zm0 220h160v-160H400v160ZM180-400h160v-160H180v160Zm440 0h160v-160H620v160ZM180-180h160v-160H180v160Zm440 0h160v-160H620v160Z\"/\u003e\n",
              "  \u003c/svg\u003e\n",
              "    \u003c/button\u003e\n",
              "\n",
              "  \u003cstyle\u003e\n",
              "    .colab-df-container {\n",
              "      display:flex;\n",
              "      gap: 12px;\n",
              "    }\n",
              "\n",
              "    .colab-df-convert {\n",
              "      background-color: #E8F0FE;\n",
              "      border: none;\n",
              "      border-radius: 50%;\n",
              "      cursor: pointer;\n",
              "      display: none;\n",
              "      fill: #1967D2;\n",
              "      height: 32px;\n",
              "      padding: 0 0 0 0;\n",
              "      width: 32px;\n",
              "    }\n",
              "\n",
              "    .colab-df-convert:hover {\n",
              "      background-color: #E2EBFA;\n",
              "      box-shadow: 0px 1px 2px rgba(60, 64, 67, 0.3), 0px 1px 3px 1px rgba(60, 64, 67, 0.15);\n",
              "      fill: #174EA6;\n",
              "    }\n",
              "\n",
              "    .colab-df-buttons div {\n",
              "      margin-bottom: 4px;\n",
              "    }\n",
              "\n",
              "    [theme=dark] .colab-df-convert {\n",
              "      background-color: #3B4455;\n",
              "      fill: #D2E3FC;\n",
              "    }\n",
              "\n",
              "    [theme=dark] .colab-df-convert:hover {\n",
              "      background-color: #434B5C;\n",
              "      box-shadow: 0px 1px 3px 1px rgba(0, 0, 0, 0.15);\n",
              "      filter: drop-shadow(0px 1px 2px rgba(0, 0, 0, 0.3));\n",
              "      fill: #FFFFFF;\n",
              "    }\n",
              "  \u003c/style\u003e\n",
              "\n",
              "    \u003cscript\u003e\n",
              "      const buttonEl =\n",
              "        document.querySelector('#df-088b86b2-8ca3-49a4-8b1e-980812a1c403 button.colab-df-convert');\n",
              "      buttonEl.style.display =\n",
              "        google.colab.kernel.accessAllowed ? 'block' : 'none';\n",
              "\n",
              "      async function convertToInteractive(key) {\n",
              "        const element = document.querySelector('#df-088b86b2-8ca3-49a4-8b1e-980812a1c403');\n",
              "        const dataTable =\n",
              "          await google.colab.kernel.invokeFunction('convertToInteractive',\n",
              "                                                    [key], {});\n",
              "        if (!dataTable) return;\n",
              "\n",
              "        const docLinkHtml = 'Like what you see? Visit the ' +\n",
              "          '\u003ca target=\"_blank\" href=https://colab.research.google.com/notebooks/data_table.ipynb\u003edata table notebook\u003c/a\u003e'\n",
              "          + ' to learn more about interactive tables.';\n",
              "        element.innerHTML = '';\n",
              "        dataTable['output_type'] = 'display_data';\n",
              "        await google.colab.output.renderOutput(dataTable, element);\n",
              "        const docLink = document.createElement('div');\n",
              "        docLink.innerHTML = docLinkHtml;\n",
              "        element.appendChild(docLink);\n",
              "      }\n",
              "    \u003c/script\u003e\n",
              "  \u003c/div\u003e\n",
              "\n",
              "\n",
              "    \u003cdiv id=\"df-bd06f7c2-4984-4e41-8d4e-5e998c6ba391\"\u003e\n",
              "      \u003cbutton class=\"colab-df-quickchart\" onclick=\"quickchart('df-bd06f7c2-4984-4e41-8d4e-5e998c6ba391')\"\n",
              "                title=\"Suggest charts\"\n",
              "                style=\"display:none;\"\u003e\n",
              "\n",
              "\u003csvg xmlns=\"http://www.w3.org/2000/svg\" height=\"24px\"viewBox=\"0 0 24 24\"\n",
              "     width=\"24px\"\u003e\n",
              "    \u003cg\u003e\n",
              "        \u003cpath d=\"M19 3H5c-1.1 0-2 .9-2 2v14c0 1.1.9 2 2 2h14c1.1 0 2-.9 2-2V5c0-1.1-.9-2-2-2zM9 17H7v-7h2v7zm4 0h-2V7h2v10zm4 0h-2v-4h2v4z\"/\u003e\n",
              "    \u003c/g\u003e\n",
              "\u003c/svg\u003e\n",
              "      \u003c/button\u003e\n",
              "\n",
              "\u003cstyle\u003e\n",
              "  .colab-df-quickchart {\n",
              "      --bg-color: #E8F0FE;\n",
              "      --fill-color: #1967D2;\n",
              "      --hover-bg-color: #E2EBFA;\n",
              "      --hover-fill-color: #174EA6;\n",
              "      --disabled-fill-color: #AAA;\n",
              "      --disabled-bg-color: #DDD;\n",
              "  }\n",
              "\n",
              "  [theme=dark] .colab-df-quickchart {\n",
              "      --bg-color: #3B4455;\n",
              "      --fill-color: #D2E3FC;\n",
              "      --hover-bg-color: #434B5C;\n",
              "      --hover-fill-color: #FFFFFF;\n",
              "      --disabled-bg-color: #3B4455;\n",
              "      --disabled-fill-color: #666;\n",
              "  }\n",
              "\n",
              "  .colab-df-quickchart {\n",
              "    background-color: var(--bg-color);\n",
              "    border: none;\n",
              "    border-radius: 50%;\n",
              "    cursor: pointer;\n",
              "    display: none;\n",
              "    fill: var(--fill-color);\n",
              "    height: 32px;\n",
              "    padding: 0;\n",
              "    width: 32px;\n",
              "  }\n",
              "\n",
              "  .colab-df-quickchart:hover {\n",
              "    background-color: var(--hover-bg-color);\n",
              "    box-shadow: 0 1px 2px rgba(60, 64, 67, 0.3), 0 1px 3px 1px rgba(60, 64, 67, 0.15);\n",
              "    fill: var(--button-hover-fill-color);\n",
              "  }\n",
              "\n",
              "  .colab-df-quickchart-complete:disabled,\n",
              "  .colab-df-quickchart-complete:disabled:hover {\n",
              "    background-color: var(--disabled-bg-color);\n",
              "    fill: var(--disabled-fill-color);\n",
              "    box-shadow: none;\n",
              "  }\n",
              "\n",
              "  .colab-df-spinner {\n",
              "    border: 2px solid var(--fill-color);\n",
              "    border-color: transparent;\n",
              "    border-bottom-color: var(--fill-color);\n",
              "    animation:\n",
              "      spin 1s steps(1) infinite;\n",
              "  }\n",
              "\n",
              "  @keyframes spin {\n",
              "    0% {\n",
              "      border-color: transparent;\n",
              "      border-bottom-color: var(--fill-color);\n",
              "      border-left-color: var(--fill-color);\n",
              "    }\n",
              "    20% {\n",
              "      border-color: transparent;\n",
              "      border-left-color: var(--fill-color);\n",
              "      border-top-color: var(--fill-color);\n",
              "    }\n",
              "    30% {\n",
              "      border-color: transparent;\n",
              "      border-left-color: var(--fill-color);\n",
              "      border-top-color: var(--fill-color);\n",
              "      border-right-color: var(--fill-color);\n",
              "    }\n",
              "    40% {\n",
              "      border-color: transparent;\n",
              "      border-right-color: var(--fill-color);\n",
              "      border-top-color: var(--fill-color);\n",
              "    }\n",
              "    60% {\n",
              "      border-color: transparent;\n",
              "      border-right-color: var(--fill-color);\n",
              "    }\n",
              "    80% {\n",
              "      border-color: transparent;\n",
              "      border-right-color: var(--fill-color);\n",
              "      border-bottom-color: var(--fill-color);\n",
              "    }\n",
              "    90% {\n",
              "      border-color: transparent;\n",
              "      border-bottom-color: var(--fill-color);\n",
              "    }\n",
              "  }\n",
              "\u003c/style\u003e\n",
              "\n",
              "      \u003cscript\u003e\n",
              "        async function quickchart(key) {\n",
              "          const quickchartButtonEl =\n",
              "            document.querySelector('#' + key + ' button');\n",
              "          quickchartButtonEl.disabled = true;  // To prevent multiple clicks.\n",
              "          quickchartButtonEl.classList.add('colab-df-spinner');\n",
              "          try {\n",
              "            const charts = await google.colab.kernel.invokeFunction(\n",
              "                'suggestCharts', [key], {});\n",
              "          } catch (error) {\n",
              "            console.error('Error during call to suggestCharts:', error);\n",
              "          }\n",
              "          quickchartButtonEl.classList.remove('colab-df-spinner');\n",
              "          quickchartButtonEl.classList.add('colab-df-quickchart-complete');\n",
              "        }\n",
              "        (() =\u003e {\n",
              "          let quickchartButtonEl =\n",
              "            document.querySelector('#df-bd06f7c2-4984-4e41-8d4e-5e998c6ba391 button');\n",
              "          quickchartButtonEl.style.display =\n",
              "            google.colab.kernel.accessAllowed ? 'block' : 'none';\n",
              "        })();\n",
              "      \u003c/script\u003e\n",
              "    \u003c/div\u003e\n",
              "    \u003c/div\u003e\n",
              "  \u003c/div\u003e\n"
            ],
            "text/plain": [
              "                                                  name  ... nonzero_mean\n",
              "0                        CL:0000047 polyA plus RNA-seq  ...     0.143617\n",
              "1                             CL:0000062 total RNA-seq  ...     0.094144\n",
              "2                        CL:0000084 polyA plus RNA-seq  ...     0.124296\n",
              "3                             CL:0000084 total RNA-seq  ...     0.100934\n",
              "4                             CL:0000115 total RNA-seq  ...     0.135553\n",
              "..                                                 ...  ...          ...\n",
              "662                  UBERON:0018115 polyA plus RNA-seq  ...     0.268222\n",
              "663                  UBERON:0018116 polyA plus RNA-seq  ...     0.258522\n",
              "664                  UBERON:0018117 polyA plus RNA-seq  ...     0.215190\n",
              "665                  UBERON:0018118 polyA plus RNA-seq  ...     0.365676\n",
              "666  UBERON:0036149 gtex Skin_Not_Sun_Exposed_Supra...  ...     0.045404\n",
              "\n",
              "[667 rows x 12 columns]"
            ]
          },
          "execution_count": 29,
          "metadata": {},
          "output_type": "execute_result"
        }
      ],
      "source": [
        "variant_scores.var"
      ]
    },
    {
      "cell_type": "markdown",
      "metadata": {
        "id": "rrbvEe4xkYVu"
      },
      "source": [
        "Some handy additional metadata can be found in `.uns`:"
      ]
    },
    {
      "cell_type": "code",
      "execution_count": 30,
      "metadata": {
        "executionInfo": {
          "elapsed": 54,
          "status": "ok",
          "timestamp": 1753109251574,
          "user": {
            "displayName": "",
            "userId": ""
          },
          "user_tz": -60
        },
        "id": "n3GGvosdkYVu",
        "outputId": "5930911c-4776-4a98-9205-9aa15da96322"
      },
      "outputs": [
        {
          "name": "stdout",
          "output_type": "stream",
          "text": [
            "Interval: chr22:35677410-36725986:.\n",
            "Variant: chr22:36201698:A\u003eC\n",
            "Variant scorer: GeneMaskLFCScorer(requested_output=RNA_SEQ)\n"
          ]
        }
      ],
      "source": [
        "print(f'Interval: {variant_scores.uns[\"interval\"]}')\n",
        "print(f'Variant: {variant_scores.uns[\"variant\"]}')\n",
        "print(f'Variant scorer: {variant_scores.uns[\"variant_scorer\"]}')"
      ]
    },
    {
      "cell_type": "markdown",
      "metadata": {
        "id": "B0WK-6IpkYVu"
      },
      "source": [
        "We recommend interacting with variant scores by flattening `AnnData` objects using `tidy_scores`, which produces a dataframe with each row being a single score for each combination of (variant, gene, scorer, ontology). It optionally excludes stranded tracks which do not match the gene’s strand for gene-specific scorer.\n",
        "\n",
        "The `raw_score` column contains the same values as stored in `variant_scores.X`. The `quantile_score` column is the rank of the `raw_score` in the distribution of scores for a background set of common variants, represented as a quantile probability. This allows for direct comparison across variant scoring strategies that yield scores on different scales. See [FAQs](https://www.alphagenomedocs.com/faqs.html#what-is-the-difference-between-a-quantile-score-and-raw-score) for further details."
      ]
    },
    {
      "cell_type": "code",
      "execution_count": 31,
      "metadata": {
        "colab": {
          "height": 930
        },
        "executionInfo": {
          "elapsed": 548,
          "status": "ok",
          "timestamp": 1753109252377,
          "user": {
            "displayName": "",
            "userId": ""
          },
          "user_tz": -60
        },
        "id": "cVG5ApfkkYVu",
        "outputId": "cb364812-e079-4213-a64c-ee98f80cb63d"
      },
      "outputs": [
        {
          "data": {
            "application/vnd.google.colaboratory.intrinsic+json": {
              "repr_error": "Out of range float values are not JSON compliant: nan",
              "type": "dataframe"
            },
            "text/html": [
              "\n",
              "  \u003cdiv id=\"df-4af83904-dd47-4dfc-a95e-ca142cc1ff44\" class=\"colab-df-container\"\u003e\n",
              "    \u003cdiv\u003e\n",
              "\u003cstyle scoped\u003e\n",
              "    .dataframe tbody tr th:only-of-type {\n",
              "        vertical-align: middle;\n",
              "    }\n",
              "\n",
              "    .dataframe tbody tr th {\n",
              "        vertical-align: top;\n",
              "    }\n",
              "\n",
              "    .dataframe thead th {\n",
              "        text-align: right;\n",
              "    }\n",
              "\u003c/style\u003e\n",
              "\u003ctable border=\"1\" class=\"dataframe\"\u003e\n",
              "  \u003cthead\u003e\n",
              "    \u003ctr style=\"text-align: right;\"\u003e\n",
              "      \u003cth\u003e\u003c/th\u003e\n",
              "      \u003cth\u003evariant_id\u003c/th\u003e\n",
              "      \u003cth\u003escored_interval\u003c/th\u003e\n",
              "      \u003cth\u003egene_id\u003c/th\u003e\n",
              "      \u003cth\u003egene_name\u003c/th\u003e\n",
              "      \u003cth\u003egene_type\u003c/th\u003e\n",
              "      \u003cth\u003egene_strand\u003c/th\u003e\n",
              "      \u003cth\u003ejunction_Start\u003c/th\u003e\n",
              "      \u003cth\u003ejunction_End\u003c/th\u003e\n",
              "      \u003cth\u003eoutput_type\u003c/th\u003e\n",
              "      \u003cth\u003evariant_scorer\u003c/th\u003e\n",
              "      \u003cth\u003etrack_name\u003c/th\u003e\n",
              "      \u003cth\u003etrack_strand\u003c/th\u003e\n",
              "      \u003cth\u003eAssay title\u003c/th\u003e\n",
              "      \u003cth\u003eontology_curie\u003c/th\u003e\n",
              "      \u003cth\u003ebiosample_name\u003c/th\u003e\n",
              "      \u003cth\u003ebiosample_type\u003c/th\u003e\n",
              "      \u003cth\u003egtex_tissue\u003c/th\u003e\n",
              "      \u003cth\u003eraw_score\u003c/th\u003e\n",
              "      \u003cth\u003equantile_score\u003c/th\u003e\n",
              "    \u003c/tr\u003e\n",
              "  \u003c/thead\u003e\n",
              "  \u003ctbody\u003e\n",
              "    \u003ctr\u003e\n",
              "      \u003cth\u003e0\u003c/th\u003e\n",
              "      \u003ctd\u003echr22:36201698:A\u0026gt;C\u003c/td\u003e\n",
              "      \u003ctd\u003echr22:35677410-36725986:.\u003c/td\u003e\n",
              "      \u003ctd\u003eENSG00000100320\u003c/td\u003e\n",
              "      \u003ctd\u003eRBFOX2\u003c/td\u003e\n",
              "      \u003ctd\u003eprotein_coding\u003c/td\u003e\n",
              "      \u003ctd\u003e-\u003c/td\u003e\n",
              "      \u003ctd\u003eNone\u003c/td\u003e\n",
              "      \u003ctd\u003eNone\u003c/td\u003e\n",
              "      \u003ctd\u003eRNA_SEQ\u003c/td\u003e\n",
              "      \u003ctd\u003eGeneMaskLFCScorer(requested_output=RNA_SEQ)\u003c/td\u003e\n",
              "      \u003ctd\u003eCL:0000047 polyA plus RNA-seq\u003c/td\u003e\n",
              "      \u003ctd\u003e-\u003c/td\u003e\n",
              "      \u003ctd\u003epolyA plus RNA-seq\u003c/td\u003e\n",
              "      \u003ctd\u003eCL:0000047\u003c/td\u003e\n",
              "      \u003ctd\u003eneuronal stem cell\u003c/td\u003e\n",
              "      \u003ctd\u003ein_vitro_differentiated_cells\u003c/td\u003e\n",
              "      \u003ctd\u003e\u003c/td\u003e\n",
              "      \u003ctd\u003e0.000903\u003c/td\u003e\n",
              "      \u003ctd\u003e0.606708\u003c/td\u003e\n",
              "    \u003c/tr\u003e\n",
              "    \u003ctr\u003e\n",
              "      \u003cth\u003e1\u003c/th\u003e\n",
              "      \u003ctd\u003echr22:36201698:A\u0026gt;C\u003c/td\u003e\n",
              "      \u003ctd\u003echr22:35677410-36725986:.\u003c/td\u003e\n",
              "      \u003ctd\u003eENSG00000100320\u003c/td\u003e\n",
              "      \u003ctd\u003eRBFOX2\u003c/td\u003e\n",
              "      \u003ctd\u003eprotein_coding\u003c/td\u003e\n",
              "      \u003ctd\u003e-\u003c/td\u003e\n",
              "      \u003ctd\u003eNone\u003c/td\u003e\n",
              "      \u003ctd\u003eNone\u003c/td\u003e\n",
              "      \u003ctd\u003eRNA_SEQ\u003c/td\u003e\n",
              "      \u003ctd\u003eGeneMaskLFCScorer(requested_output=RNA_SEQ)\u003c/td\u003e\n",
              "      \u003ctd\u003eCL:0000062 total RNA-seq\u003c/td\u003e\n",
              "      \u003ctd\u003e-\u003c/td\u003e\n",
              "      \u003ctd\u003etotal RNA-seq\u003c/td\u003e\n",
              "      \u003ctd\u003eCL:0000062\u003c/td\u003e\n",
              "      \u003ctd\u003eosteoblast\u003c/td\u003e\n",
              "      \u003ctd\u003eprimary_cell\u003c/td\u003e\n",
              "      \u003ctd\u003e\u003c/td\u003e\n",
              "      \u003ctd\u003e-0.000363\u003c/td\u003e\n",
              "      \u003ctd\u003e-0.477020\u003c/td\u003e\n",
              "    \u003c/tr\u003e\n",
              "    \u003ctr\u003e\n",
              "      \u003cth\u003e2\u003c/th\u003e\n",
              "      \u003ctd\u003echr22:36201698:A\u0026gt;C\u003c/td\u003e\n",
              "      \u003ctd\u003echr22:35677410-36725986:.\u003c/td\u003e\n",
              "      \u003ctd\u003eENSG00000100320\u003c/td\u003e\n",
              "      \u003ctd\u003eRBFOX2\u003c/td\u003e\n",
              "      \u003ctd\u003eprotein_coding\u003c/td\u003e\n",
              "      \u003ctd\u003e-\u003c/td\u003e\n",
              "      \u003ctd\u003eNone\u003c/td\u003e\n",
              "      \u003ctd\u003eNone\u003c/td\u003e\n",
              "      \u003ctd\u003eRNA_SEQ\u003c/td\u003e\n",
              "      \u003ctd\u003eGeneMaskLFCScorer(requested_output=RNA_SEQ)\u003c/td\u003e\n",
              "      \u003ctd\u003eCL:0000084 polyA plus RNA-seq\u003c/td\u003e\n",
              "      \u003ctd\u003e-\u003c/td\u003e\n",
              "      \u003ctd\u003epolyA plus RNA-seq\u003c/td\u003e\n",
              "      \u003ctd\u003eCL:0000084\u003c/td\u003e\n",
              "      \u003ctd\u003eT-cell\u003c/td\u003e\n",
              "      \u003ctd\u003eprimary_cell\u003c/td\u003e\n",
              "      \u003ctd\u003e\u003c/td\u003e\n",
              "      \u003ctd\u003e-0.007063\u003c/td\u003e\n",
              "      \u003ctd\u003e-0.989667\u003c/td\u003e\n",
              "    \u003c/tr\u003e\n",
              "    \u003ctr\u003e\n",
              "      \u003cth\u003e3\u003c/th\u003e\n",
              "      \u003ctd\u003echr22:36201698:A\u0026gt;C\u003c/td\u003e\n",
              "      \u003ctd\u003echr22:35677410-36725986:.\u003c/td\u003e\n",
              "      \u003ctd\u003eENSG00000100320\u003c/td\u003e\n",
              "      \u003ctd\u003eRBFOX2\u003c/td\u003e\n",
              "      \u003ctd\u003eprotein_coding\u003c/td\u003e\n",
              "      \u003ctd\u003e-\u003c/td\u003e\n",
              "      \u003ctd\u003eNone\u003c/td\u003e\n",
              "      \u003ctd\u003eNone\u003c/td\u003e\n",
              "      \u003ctd\u003eRNA_SEQ\u003c/td\u003e\n",
              "      \u003ctd\u003eGeneMaskLFCScorer(requested_output=RNA_SEQ)\u003c/td\u003e\n",
              "      \u003ctd\u003eCL:0000084 total RNA-seq\u003c/td\u003e\n",
              "      \u003ctd\u003e-\u003c/td\u003e\n",
              "      \u003ctd\u003etotal RNA-seq\u003c/td\u003e\n",
              "      \u003ctd\u003eCL:0000084\u003c/td\u003e\n",
              "      \u003ctd\u003eT-cell\u003c/td\u003e\n",
              "      \u003ctd\u003eprimary_cell\u003c/td\u003e\n",
              "      \u003ctd\u003e\u003c/td\u003e\n",
              "      \u003ctd\u003e-0.007229\u003c/td\u003e\n",
              "      \u003ctd\u003e-0.990997\u003c/td\u003e\n",
              "    \u003c/tr\u003e\n",
              "    \u003ctr\u003e\n",
              "      \u003cth\u003e4\u003c/th\u003e\n",
              "      \u003ctd\u003echr22:36201698:A\u0026gt;C\u003c/td\u003e\n",
              "      \u003ctd\u003echr22:35677410-36725986:.\u003c/td\u003e\n",
              "      \u003ctd\u003eENSG00000100320\u003c/td\u003e\n",
              "      \u003ctd\u003eRBFOX2\u003c/td\u003e\n",
              "      \u003ctd\u003eprotein_coding\u003c/td\u003e\n",
              "      \u003ctd\u003e-\u003c/td\u003e\n",
              "      \u003ctd\u003eNone\u003c/td\u003e\n",
              "      \u003ctd\u003eNone\u003c/td\u003e\n",
              "      \u003ctd\u003eRNA_SEQ\u003c/td\u003e\n",
              "      \u003ctd\u003eGeneMaskLFCScorer(requested_output=RNA_SEQ)\u003c/td\u003e\n",
              "      \u003ctd\u003eCL:0000115 total RNA-seq\u003c/td\u003e\n",
              "      \u003ctd\u003e-\u003c/td\u003e\n",
              "      \u003ctd\u003etotal RNA-seq\u003c/td\u003e\n",
              "      \u003ctd\u003eCL:0000115\u003c/td\u003e\n",
              "      \u003ctd\u003eendothelial cell\u003c/td\u003e\n",
              "      \u003ctd\u003ein_vitro_differentiated_cells\u003c/td\u003e\n",
              "      \u003ctd\u003e\u003c/td\u003e\n",
              "      \u003ctd\u003e0.000461\u003c/td\u003e\n",
              "      \u003ctd\u003e0.449849\u003c/td\u003e\n",
              "    \u003c/tr\u003e\n",
              "    \u003ctr\u003e\n",
              "      \u003cth\u003e...\u003c/th\u003e\n",
              "      \u003ctd\u003e...\u003c/td\u003e\n",
              "      \u003ctd\u003e...\u003c/td\u003e\n",
              "      \u003ctd\u003e...\u003c/td\u003e\n",
              "      \u003ctd\u003e...\u003c/td\u003e\n",
              "      \u003ctd\u003e...\u003c/td\u003e\n",
              "      \u003ctd\u003e...\u003c/td\u003e\n",
              "      \u003ctd\u003e...\u003c/td\u003e\n",
              "      \u003ctd\u003e...\u003c/td\u003e\n",
              "      \u003ctd\u003e...\u003c/td\u003e\n",
              "      \u003ctd\u003e...\u003c/td\u003e\n",
              "      \u003ctd\u003e...\u003c/td\u003e\n",
              "      \u003ctd\u003e...\u003c/td\u003e\n",
              "      \u003ctd\u003e...\u003c/td\u003e\n",
              "      \u003ctd\u003e...\u003c/td\u003e\n",
              "      \u003ctd\u003e...\u003c/td\u003e\n",
              "      \u003ctd\u003e...\u003c/td\u003e\n",
              "      \u003ctd\u003e...\u003c/td\u003e\n",
              "      \u003ctd\u003e...\u003c/td\u003e\n",
              "      \u003ctd\u003e...\u003c/td\u003e\n",
              "    \u003c/tr\u003e\n",
              "    \u003ctr\u003e\n",
              "      \u003cth\u003e14647\u003c/th\u003e\n",
              "      \u003ctd\u003echr22:36201698:A\u0026gt;C\u003c/td\u003e\n",
              "      \u003ctd\u003echr22:35677410-36725986:.\u003c/td\u003e\n",
              "      \u003ctd\u003eENSG00000293594\u003c/td\u003e\n",
              "      \u003ctd\u003eENSG00000293594\u003c/td\u003e\n",
              "      \u003ctd\u003eprocessed_pseudogene\u003c/td\u003e\n",
              "      \u003ctd\u003e-\u003c/td\u003e\n",
              "      \u003ctd\u003eNone\u003c/td\u003e\n",
              "      \u003ctd\u003eNone\u003c/td\u003e\n",
              "      \u003ctd\u003eRNA_SEQ\u003c/td\u003e\n",
              "      \u003ctd\u003eGeneMaskLFCScorer(requested_output=RNA_SEQ)\u003c/td\u003e\n",
              "      \u003ctd\u003eUBERON:0018115 polyA plus RNA-seq\u003c/td\u003e\n",
              "      \u003ctd\u003e.\u003c/td\u003e\n",
              "      \u003ctd\u003epolyA plus RNA-seq\u003c/td\u003e\n",
              "      \u003ctd\u003eUBERON:0018115\u003c/td\u003e\n",
              "      \u003ctd\u003eleft renal pelvis\u003c/td\u003e\n",
              "      \u003ctd\u003etissue\u003c/td\u003e\n",
              "      \u003ctd\u003e\u003c/td\u003e\n",
              "      \u003ctd\u003e0.006467\u003c/td\u003e\n",
              "      \u003ctd\u003e0.989427\u003c/td\u003e\n",
              "    \u003c/tr\u003e\n",
              "    \u003ctr\u003e\n",
              "      \u003cth\u003e14648\u003c/th\u003e\n",
              "      \u003ctd\u003echr22:36201698:A\u0026gt;C\u003c/td\u003e\n",
              "      \u003ctd\u003echr22:35677410-36725986:.\u003c/td\u003e\n",
              "      \u003ctd\u003eENSG00000293594\u003c/td\u003e\n",
              "      \u003ctd\u003eENSG00000293594\u003c/td\u003e\n",
              "      \u003ctd\u003eprocessed_pseudogene\u003c/td\u003e\n",
              "      \u003ctd\u003e-\u003c/td\u003e\n",
              "      \u003ctd\u003eNone\u003c/td\u003e\n",
              "      \u003ctd\u003eNone\u003c/td\u003e\n",
              "      \u003ctd\u003eRNA_SEQ\u003c/td\u003e\n",
              "      \u003ctd\u003eGeneMaskLFCScorer(requested_output=RNA_SEQ)\u003c/td\u003e\n",
              "      \u003ctd\u003eUBERON:0018116 polyA plus RNA-seq\u003c/td\u003e\n",
              "      \u003ctd\u003e.\u003c/td\u003e\n",
              "      \u003ctd\u003epolyA plus RNA-seq\u003c/td\u003e\n",
              "      \u003ctd\u003eUBERON:0018116\u003c/td\u003e\n",
              "      \u003ctd\u003eright renal pelvis\u003c/td\u003e\n",
              "      \u003ctd\u003etissue\u003c/td\u003e\n",
              "      \u003ctd\u003e\u003c/td\u003e\n",
              "      \u003ctd\u003e0.007303\u003c/td\u003e\n",
              "      \u003ctd\u003e0.992679\u003c/td\u003e\n",
              "    \u003c/tr\u003e\n",
              "    \u003ctr\u003e\n",
              "      \u003cth\u003e14649\u003c/th\u003e\n",
              "      \u003ctd\u003echr22:36201698:A\u0026gt;C\u003c/td\u003e\n",
              "      \u003ctd\u003echr22:35677410-36725986:.\u003c/td\u003e\n",
              "      \u003ctd\u003eENSG00000293594\u003c/td\u003e\n",
              "      \u003ctd\u003eENSG00000293594\u003c/td\u003e\n",
              "      \u003ctd\u003eprocessed_pseudogene\u003c/td\u003e\n",
              "      \u003ctd\u003e-\u003c/td\u003e\n",
              "      \u003ctd\u003eNone\u003c/td\u003e\n",
              "      \u003ctd\u003eNone\u003c/td\u003e\n",
              "      \u003ctd\u003eRNA_SEQ\u003c/td\u003e\n",
              "      \u003ctd\u003eGeneMaskLFCScorer(requested_output=RNA_SEQ)\u003c/td\u003e\n",
              "      \u003ctd\u003eUBERON:0018117 polyA plus RNA-seq\u003c/td\u003e\n",
              "      \u003ctd\u003e.\u003c/td\u003e\n",
              "      \u003ctd\u003epolyA plus RNA-seq\u003c/td\u003e\n",
              "      \u003ctd\u003eUBERON:0018117\u003c/td\u003e\n",
              "      \u003ctd\u003eleft renal cortex interstitium\u003c/td\u003e\n",
              "      \u003ctd\u003etissue\u003c/td\u003e\n",
              "      \u003ctd\u003e\u003c/td\u003e\n",
              "      \u003ctd\u003e0.004375\u003c/td\u003e\n",
              "      \u003ctd\u003e0.964537\u003c/td\u003e\n",
              "    \u003c/tr\u003e\n",
              "    \u003ctr\u003e\n",
              "      \u003cth\u003e14650\u003c/th\u003e\n",
              "      \u003ctd\u003echr22:36201698:A\u0026gt;C\u003c/td\u003e\n",
              "      \u003ctd\u003echr22:35677410-36725986:.\u003c/td\u003e\n",
              "      \u003ctd\u003eENSG00000293594\u003c/td\u003e\n",
              "      \u003ctd\u003eENSG00000293594\u003c/td\u003e\n",
              "      \u003ctd\u003eprocessed_pseudogene\u003c/td\u003e\n",
              "      \u003ctd\u003e-\u003c/td\u003e\n",
              "      \u003ctd\u003eNone\u003c/td\u003e\n",
              "      \u003ctd\u003eNone\u003c/td\u003e\n",
              "      \u003ctd\u003eRNA_SEQ\u003c/td\u003e\n",
              "      \u003ctd\u003eGeneMaskLFCScorer(requested_output=RNA_SEQ)\u003c/td\u003e\n",
              "      \u003ctd\u003eUBERON:0018118 polyA plus RNA-seq\u003c/td\u003e\n",
              "      \u003ctd\u003e.\u003c/td\u003e\n",
              "      \u003ctd\u003epolyA plus RNA-seq\u003c/td\u003e\n",
              "      \u003ctd\u003eUBERON:0018118\u003c/td\u003e\n",
              "      \u003ctd\u003eright renal cortex interstitium\u003c/td\u003e\n",
              "      \u003ctd\u003etissue\u003c/td\u003e\n",
              "      \u003ctd\u003e\u003c/td\u003e\n",
              "      \u003ctd\u003e0.003006\u003c/td\u003e\n",
              "      \u003ctd\u003e0.905090\u003c/td\u003e\n",
              "    \u003c/tr\u003e\n",
              "    \u003ctr\u003e\n",
              "      \u003cth\u003e14651\u003c/th\u003e\n",
              "      \u003ctd\u003echr22:36201698:A\u0026gt;C\u003c/td\u003e\n",
              "      \u003ctd\u003echr22:35677410-36725986:.\u003c/td\u003e\n",
              "      \u003ctd\u003eENSG00000293594\u003c/td\u003e\n",
              "      \u003ctd\u003eENSG00000293594\u003c/td\u003e\n",
              "      \u003ctd\u003eprocessed_pseudogene\u003c/td\u003e\n",
              "      \u003ctd\u003e-\u003c/td\u003e\n",
              "      \u003ctd\u003eNone\u003c/td\u003e\n",
              "      \u003ctd\u003eNone\u003c/td\u003e\n",
              "      \u003ctd\u003eRNA_SEQ\u003c/td\u003e\n",
              "      \u003ctd\u003eGeneMaskLFCScorer(requested_output=RNA_SEQ)\u003c/td\u003e\n",
              "      \u003ctd\u003eUBERON:0036149 gtex Skin_Not_Sun_Exposed_Supra...\u003c/td\u003e\n",
              "      \u003ctd\u003e.\u003c/td\u003e\n",
              "      \u003ctd\u003epolyA plus RNA-seq\u003c/td\u003e\n",
              "      \u003ctd\u003eUBERON:0036149\u003c/td\u003e\n",
              "      \u003ctd\u003esuprapubic skin\u003c/td\u003e\n",
              "      \u003ctd\u003etissue\u003c/td\u003e\n",
              "      \u003ctd\u003eSkin_Not_Sun_Exposed_Suprapubic\u003c/td\u003e\n",
              "      \u003ctd\u003e-0.002312\u003c/td\u003e\n",
              "      \u003ctd\u003e-0.822706\u003c/td\u003e\n",
              "    \u003c/tr\u003e\n",
              "  \u003c/tbody\u003e\n",
              "\u003c/table\u003e\n",
              "\u003cp\u003e14652 rows × 19 columns\u003c/p\u003e\n",
              "\u003c/div\u003e\n",
              "    \u003cdiv class=\"colab-df-buttons\"\u003e\n",
              "\n",
              "  \u003cdiv class=\"colab-df-container\"\u003e\n",
              "    \u003cbutton class=\"colab-df-convert\" onclick=\"convertToInteractive('df-4af83904-dd47-4dfc-a95e-ca142cc1ff44')\"\n",
              "            title=\"Convert this dataframe to an interactive table.\"\n",
              "            style=\"display:none;\"\u003e\n",
              "\n",
              "  \u003csvg xmlns=\"http://www.w3.org/2000/svg\" height=\"24px\" viewBox=\"0 -960 960 960\"\u003e\n",
              "    \u003cpath d=\"M120-120v-720h720v720H120Zm60-500h600v-160H180v160Zm220 220h160v-160H400v160Zm0 220h160v-160H400v160ZM180-400h160v-160H180v160Zm440 0h160v-160H620v160ZM180-180h160v-160H180v160Zm440 0h160v-160H620v160Z\"/\u003e\n",
              "  \u003c/svg\u003e\n",
              "    \u003c/button\u003e\n",
              "\n",
              "  \u003cstyle\u003e\n",
              "    .colab-df-container {\n",
              "      display:flex;\n",
              "      gap: 12px;\n",
              "    }\n",
              "\n",
              "    .colab-df-convert {\n",
              "      background-color: #E8F0FE;\n",
              "      border: none;\n",
              "      border-radius: 50%;\n",
              "      cursor: pointer;\n",
              "      display: none;\n",
              "      fill: #1967D2;\n",
              "      height: 32px;\n",
              "      padding: 0 0 0 0;\n",
              "      width: 32px;\n",
              "    }\n",
              "\n",
              "    .colab-df-convert:hover {\n",
              "      background-color: #E2EBFA;\n",
              "      box-shadow: 0px 1px 2px rgba(60, 64, 67, 0.3), 0px 1px 3px 1px rgba(60, 64, 67, 0.15);\n",
              "      fill: #174EA6;\n",
              "    }\n",
              "\n",
              "    .colab-df-buttons div {\n",
              "      margin-bottom: 4px;\n",
              "    }\n",
              "\n",
              "    [theme=dark] .colab-df-convert {\n",
              "      background-color: #3B4455;\n",
              "      fill: #D2E3FC;\n",
              "    }\n",
              "\n",
              "    [theme=dark] .colab-df-convert:hover {\n",
              "      background-color: #434B5C;\n",
              "      box-shadow: 0px 1px 3px 1px rgba(0, 0, 0, 0.15);\n",
              "      filter: drop-shadow(0px 1px 2px rgba(0, 0, 0, 0.3));\n",
              "      fill: #FFFFFF;\n",
              "    }\n",
              "  \u003c/style\u003e\n",
              "\n",
              "    \u003cscript\u003e\n",
              "      const buttonEl =\n",
              "        document.querySelector('#df-4af83904-dd47-4dfc-a95e-ca142cc1ff44 button.colab-df-convert');\n",
              "      buttonEl.style.display =\n",
              "        google.colab.kernel.accessAllowed ? 'block' : 'none';\n",
              "\n",
              "      async function convertToInteractive(key) {\n",
              "        const element = document.querySelector('#df-4af83904-dd47-4dfc-a95e-ca142cc1ff44');\n",
              "        const dataTable =\n",
              "          await google.colab.kernel.invokeFunction('convertToInteractive',\n",
              "                                                    [key], {});\n",
              "        if (!dataTable) return;\n",
              "\n",
              "        const docLinkHtml = 'Like what you see? Visit the ' +\n",
              "          '\u003ca target=\"_blank\" href=https://colab.research.google.com/notebooks/data_table.ipynb\u003edata table notebook\u003c/a\u003e'\n",
              "          + ' to learn more about interactive tables.';\n",
              "        element.innerHTML = '';\n",
              "        dataTable['output_type'] = 'display_data';\n",
              "        await google.colab.output.renderOutput(dataTable, element);\n",
              "        const docLink = document.createElement('div');\n",
              "        docLink.innerHTML = docLinkHtml;\n",
              "        element.appendChild(docLink);\n",
              "      }\n",
              "    \u003c/script\u003e\n",
              "  \u003c/div\u003e\n",
              "\n",
              "\n",
              "    \u003cdiv id=\"df-f99e4439-2c6a-479c-b95e-c8f10d1c195f\"\u003e\n",
              "      \u003cbutton class=\"colab-df-quickchart\" onclick=\"quickchart('df-f99e4439-2c6a-479c-b95e-c8f10d1c195f')\"\n",
              "                title=\"Suggest charts\"\n",
              "                style=\"display:none;\"\u003e\n",
              "\n",
              "\u003csvg xmlns=\"http://www.w3.org/2000/svg\" height=\"24px\"viewBox=\"0 0 24 24\"\n",
              "     width=\"24px\"\u003e\n",
              "    \u003cg\u003e\n",
              "        \u003cpath d=\"M19 3H5c-1.1 0-2 .9-2 2v14c0 1.1.9 2 2 2h14c1.1 0 2-.9 2-2V5c0-1.1-.9-2-2-2zM9 17H7v-7h2v7zm4 0h-2V7h2v10zm4 0h-2v-4h2v4z\"/\u003e\n",
              "    \u003c/g\u003e\n",
              "\u003c/svg\u003e\n",
              "      \u003c/button\u003e\n",
              "\n",
              "\u003cstyle\u003e\n",
              "  .colab-df-quickchart {\n",
              "      --bg-color: #E8F0FE;\n",
              "      --fill-color: #1967D2;\n",
              "      --hover-bg-color: #E2EBFA;\n",
              "      --hover-fill-color: #174EA6;\n",
              "      --disabled-fill-color: #AAA;\n",
              "      --disabled-bg-color: #DDD;\n",
              "  }\n",
              "\n",
              "  [theme=dark] .colab-df-quickchart {\n",
              "      --bg-color: #3B4455;\n",
              "      --fill-color: #D2E3FC;\n",
              "      --hover-bg-color: #434B5C;\n",
              "      --hover-fill-color: #FFFFFF;\n",
              "      --disabled-bg-color: #3B4455;\n",
              "      --disabled-fill-color: #666;\n",
              "  }\n",
              "\n",
              "  .colab-df-quickchart {\n",
              "    background-color: var(--bg-color);\n",
              "    border: none;\n",
              "    border-radius: 50%;\n",
              "    cursor: pointer;\n",
              "    display: none;\n",
              "    fill: var(--fill-color);\n",
              "    height: 32px;\n",
              "    padding: 0;\n",
              "    width: 32px;\n",
              "  }\n",
              "\n",
              "  .colab-df-quickchart:hover {\n",
              "    background-color: var(--hover-bg-color);\n",
              "    box-shadow: 0 1px 2px rgba(60, 64, 67, 0.3), 0 1px 3px 1px rgba(60, 64, 67, 0.15);\n",
              "    fill: var(--button-hover-fill-color);\n",
              "  }\n",
              "\n",
              "  .colab-df-quickchart-complete:disabled,\n",
              "  .colab-df-quickchart-complete:disabled:hover {\n",
              "    background-color: var(--disabled-bg-color);\n",
              "    fill: var(--disabled-fill-color);\n",
              "    box-shadow: none;\n",
              "  }\n",
              "\n",
              "  .colab-df-spinner {\n",
              "    border: 2px solid var(--fill-color);\n",
              "    border-color: transparent;\n",
              "    border-bottom-color: var(--fill-color);\n",
              "    animation:\n",
              "      spin 1s steps(1) infinite;\n",
              "  }\n",
              "\n",
              "  @keyframes spin {\n",
              "    0% {\n",
              "      border-color: transparent;\n",
              "      border-bottom-color: var(--fill-color);\n",
              "      border-left-color: var(--fill-color);\n",
              "    }\n",
              "    20% {\n",
              "      border-color: transparent;\n",
              "      border-left-color: var(--fill-color);\n",
              "      border-top-color: var(--fill-color);\n",
              "    }\n",
              "    30% {\n",
              "      border-color: transparent;\n",
              "      border-left-color: var(--fill-color);\n",
              "      border-top-color: var(--fill-color);\n",
              "      border-right-color: var(--fill-color);\n",
              "    }\n",
              "    40% {\n",
              "      border-color: transparent;\n",
              "      border-right-color: var(--fill-color);\n",
              "      border-top-color: var(--fill-color);\n",
              "    }\n",
              "    60% {\n",
              "      border-color: transparent;\n",
              "      border-right-color: var(--fill-color);\n",
              "    }\n",
              "    80% {\n",
              "      border-color: transparent;\n",
              "      border-right-color: var(--fill-color);\n",
              "      border-bottom-color: var(--fill-color);\n",
              "    }\n",
              "    90% {\n",
              "      border-color: transparent;\n",
              "      border-bottom-color: var(--fill-color);\n",
              "    }\n",
              "  }\n",
              "\u003c/style\u003e\n",
              "\n",
              "      \u003cscript\u003e\n",
              "        async function quickchart(key) {\n",
              "          const quickchartButtonEl =\n",
              "            document.querySelector('#' + key + ' button');\n",
              "          quickchartButtonEl.disabled = true;  // To prevent multiple clicks.\n",
              "          quickchartButtonEl.classList.add('colab-df-spinner');\n",
              "          try {\n",
              "            const charts = await google.colab.kernel.invokeFunction(\n",
              "                'suggestCharts', [key], {});\n",
              "          } catch (error) {\n",
              "            console.error('Error during call to suggestCharts:', error);\n",
              "          }\n",
              "          quickchartButtonEl.classList.remove('colab-df-spinner');\n",
              "          quickchartButtonEl.classList.add('colab-df-quickchart-complete');\n",
              "        }\n",
              "        (() =\u003e {\n",
              "          let quickchartButtonEl =\n",
              "            document.querySelector('#df-f99e4439-2c6a-479c-b95e-c8f10d1c195f button');\n",
              "          quickchartButtonEl.style.display =\n",
              "            google.colab.kernel.accessAllowed ? 'block' : 'none';\n",
              "        })();\n",
              "      \u003c/script\u003e\n",
              "    \u003c/div\u003e\n",
              "    \u003c/div\u003e\n",
              "  \u003c/div\u003e\n"
            ],
            "text/plain": [
              "               variant_id            scored_interval  ... raw_score quantile_score\n",
              "0      chr22:36201698:A\u003eC  chr22:35677410-36725986:.  ...  0.000903       0.606708\n",
              "1      chr22:36201698:A\u003eC  chr22:35677410-36725986:.  ... -0.000363      -0.477020\n",
              "2      chr22:36201698:A\u003eC  chr22:35677410-36725986:.  ... -0.007063      -0.989667\n",
              "3      chr22:36201698:A\u003eC  chr22:35677410-36725986:.  ... -0.007229      -0.990997\n",
              "4      chr22:36201698:A\u003eC  chr22:35677410-36725986:.  ...  0.000461       0.449849\n",
              "...                   ...                        ...  ...       ...            ...\n",
              "14647  chr22:36201698:A\u003eC  chr22:35677410-36725986:.  ...  0.006467       0.989427\n",
              "14648  chr22:36201698:A\u003eC  chr22:35677410-36725986:.  ...  0.007303       0.992679\n",
              "14649  chr22:36201698:A\u003eC  chr22:35677410-36725986:.  ...  0.004375       0.964537\n",
              "14650  chr22:36201698:A\u003eC  chr22:35677410-36725986:.  ...  0.003006       0.905090\n",
              "14651  chr22:36201698:A\u003eC  chr22:35677410-36725986:.  ... -0.002312      -0.822706\n",
              "\n",
              "[14652 rows x 19 columns]"
            ]
          },
          "execution_count": 31,
          "metadata": {},
          "output_type": "execute_result"
        }
      ],
      "source": [
        "\n",
        "variant_scorers.tidy_scores([variant_scores], match_gene_strand=True)"
      ]
    },
    {
      "cell_type": "markdown",
      "metadata": {
        "id": "055sHwjykYVu"
      },
      "source": [
        "## Highlighting important regions with *in silico* mutagenesis\n",
        "\n",
        "To highlight which regions in a DNA sequence are functionally important for a final variant prediction, we can perform an **in silico mutagenesis** (ISM) analysis by scoring all possible single nucleotide variants in a specific interval.\n",
        "\n",
        "Here is a visual overview of this process:\n",
        "\n",
        "\u003ca href=\"https://services.google.com/fh/files/misc/ism_green_v2.png\"\u003e\u003cimg src=\"https://services.google.com/fh/files/misc/ism_green_v2.png\" alt=\"ISM\" border=\"0\" height=500\u003e\u003c/a\u003e\n"
      ]
    },
    {
      "cell_type": "markdown",
      "metadata": {
        "id": "O93kx8lckYVu"
      },
      "source": [
        "\n",
        "\n",
        "We define an `ism_interval`, which is a relatively small region of DNA that we want to systematically mutate. We also define the `sequence_interval`, which is the contextual interval the model will use when making predictions for each variant.\n"
      ]
    },
    {
      "cell_type": "code",
      "execution_count": 32,
      "metadata": {
        "executionInfo": {
          "elapsed": 53,
          "status": "ok",
          "timestamp": 1753109252718,
          "user": {
            "displayName": "",
            "userId": ""
          },
          "user_tz": -60
        },
        "id": "9Xhk_TsHkYVu"
      },
      "outputs": [],
      "source": [
        "# 2KB DNA sequence to use as context when making predictions.\n",
        "sequence_interval = genome.Interval('chr20', 3_753_000, 3_753_400)\n",
        "sequence_interval = sequence_interval.resize(dna_client.SEQUENCE_LENGTH_2KB)\n",
        "\n",
        "# Mutate all bases in the central 256-base region of the sequence_interval.\n",
        "ism_interval = sequence_interval.resize(256)"
      ]
    },
    {
      "cell_type": "markdown",
      "metadata": {
        "id": "d9LSDA0QkYVu"
      },
      "source": [
        "Next, we define the scorer we want to use to score each of the ISM variants. Here, we use a center mask scorer on predicted `DNASE` values, which will score each variant's effect on DNA accessibility in the 500bp vicinity. See the [variant scoring documentation](https://www.alphagenomedocs.com/variant_scoring.html) for more information on variant scoring."
      ]
    },
    {
      "cell_type": "code",
      "execution_count": 33,
      "metadata": {
        "executionInfo": {
          "elapsed": 54,
          "status": "ok",
          "timestamp": 1753109253019,
          "user": {
            "displayName": "",
            "userId": ""
          },
          "user_tz": -60
        },
        "id": "twYn3L9qkYVu"
      },
      "outputs": [],
      "source": [
        "dnase_variant_scorer = variant_scorers.CenterMaskScorer(\n",
        "    requested_output=dna_client.OutputType.DNASE,\n",
        "    width=501,\n",
        "    aggregation_type=variant_scorers.AggregationType.DIFF_MEAN,\n",
        ")"
      ]
    },
    {
      "cell_type": "markdown",
      "metadata": {
        "id": "UbQxCvutkYVu"
      },
      "source": [
        "Finally, we can use `score_variants` (notice the plural s) to score all variants.\n",
        "\n",
        "Note that this operation is quite expensive. For speed reasons, we recommend using shorter input sequences for the contextual `sequence_interval` and narrower `ism_interval` regions to mutate if possible.\n"
      ]
    },
    {
      "cell_type": "code",
      "execution_count": 34,
      "metadata": {
        "colab": {
          "height": 49,
          "referenced_widgets": [
            "0354d25ab0d24f71b99c20e228f7b18e",
            "c5751f8a879041ffb139e25d5f48de26",
            "234d97e4ab454d9691daad9e70377bdc",
            "2187ba8d183e46e28d52ee123d443e3c",
            "1079971cb0ec437cbd25da6c9f2ee0fe",
            "06563d7e48174cf088bd5ab15b08b9fa",
            "5936b4389b7a4ae48e53428fe6d1afa3",
            "fcc5e13d5c6d4aa3b8d7d72a7f9b2619",
            "26ddc667cae948e0ad07fa04e97f341d",
            "ba1681af922446c496562561ddf083d4",
            "e321c066d6f64f368d49f86a51aa144b"
          ]
        },
        "executionInfo": {
          "elapsed": 8483,
          "status": "ok",
          "timestamp": 1753109261745,
          "user": {
            "displayName": "",
            "userId": ""
          },
          "user_tz": -60
        },
        "id": "WMuA2NQXkYVu",
        "outputId": "a2b2ff80-3275-4ace-8e55-4e801ecee63f"
      },
      "outputs": [
        {
          "data": {
            "application/vnd.jupyter.widget-view+json": {
              "model_id": "0354d25ab0d24f71b99c20e228f7b18e",
              "version_major": 2,
              "version_minor": 0
            },
            "text/plain": [
              "  0%|          | 0/26 [00:00\u003c?, ?it/s]"
            ]
          },
          "metadata": {},
          "output_type": "display_data"
        }
      ],
      "source": [
        "variant_scores = dna_model.score_ism_variants(\n",
        "    interval=sequence_interval,\n",
        "    ism_interval=ism_interval,\n",
        "    variant_scorers=[dnase_variant_scorer],\n",
        ")"
      ]
    },
    {
      "cell_type": "markdown",
      "metadata": {
        "id": "r3iJ9E-ckYVu"
      },
      "source": [
        "The length of the returned `variant_scores` is 768, since we scored 768 variants (256 positions * 3 alternative bases per position):"
      ]
    },
    {
      "cell_type": "code",
      "execution_count": 35,
      "metadata": {
        "executionInfo": {
          "elapsed": 70,
          "status": "ok",
          "timestamp": 1753109262072,
          "user": {
            "displayName": "",
            "userId": ""
          },
          "user_tz": -60
        },
        "id": "NrRgRYF1kYVu",
        "outputId": "96a5d96f-6c63-4e7b-b79c-3ab43a373723"
      },
      "outputs": [
        {
          "data": {
            "text/plain": [
              "768"
            ]
          },
          "execution_count": 35,
          "metadata": {},
          "output_type": "execute_result"
        }
      ],
      "source": [
        "len(variant_scores)"
      ]
    },
    {
      "cell_type": "markdown",
      "metadata": {
        "id": "_e2WoG6pkYVu"
      },
      "source": [
        "Each variant has scores of shape `(1, 305)`, reflecting the fact that we are not using a gene-centric scorer and that there are 305 `DNASE` tracks:"
      ]
    },
    {
      "cell_type": "code",
      "execution_count": 36,
      "metadata": {
        "executionInfo": {
          "elapsed": 61,
          "status": "ok",
          "timestamp": 1753109262423,
          "user": {
            "displayName": "",
            "userId": ""
          },
          "user_tz": -60
        },
        "id": "f-raKWmbkYVu",
        "outputId": "c69ee91b-45cf-4b4f-f64c-b305072064a7"
      },
      "outputs": [
        {
          "data": {
            "text/plain": [
              "(1, 305)"
            ]
          },
          "execution_count": 36,
          "metadata": {},
          "output_type": "execute_result"
        }
      ],
      "source": [
        "# Index into first variant and first scorer.\n",
        "variant_scores[0][0].X.shape"
      ]
    },
    {
      "cell_type": "markdown",
      "metadata": {
        "id": "nyDoTBdAkYVu"
      },
      "source": [
        "To understand which positions are most influential in the predictions, we can visualize these scores using a sequence logo. This requires summarizing the scores into a single scalar value per variant.\n",
        "\n",
        "As an example, let's extract the DNASE score for just the K562 cell line, a widely used experimental model. Alternatively, you could average across multiple tissues to obtain a single scalar value."
      ]
    },
    {
      "cell_type": "code",
      "execution_count": 37,
      "metadata": {
        "executionInfo": {
          "elapsed": 209,
          "status": "ok",
          "timestamp": 1753109262913,
          "user": {
            "displayName": "",
            "userId": ""
          },
          "user_tz": -60
        },
        "id": "jK9UF4PZkYVu"
      },
      "outputs": [],
      "source": [
        "def extract_k562(adata):\n",
        "  values = adata.X[:, adata.var['ontology_curie'] == 'EFO:0002067']\n",
        "  assert values.size == 1\n",
        "  return values.flatten()[0]\n",
        "\n",
        "\n",
        "ism_result = ism.ism_matrix(\n",
        "    [extract_k562(x[0]) for x in variant_scores],\n",
        "    variants=[v[0].uns['variant'] for v in variant_scores],\n",
        ")"
      ]
    },
    {
      "cell_type": "markdown",
      "metadata": {
        "id": "UYtOmG4xkYVu"
      },
      "source": [
        "The shape of `ism_result` is `(256, 4`) since we have 1 score per position per each of the 4 DNA bases.\n",
        "\n",
        "Note that in this case, our call to `ism.ism_matrix()` had the argument `multiply_by_sequence` set to 'True', so the output array contains non-zero values only for the bases corresponding to the reference sequence.\n"
      ]
    },
    {
      "cell_type": "code",
      "execution_count": 38,
      "metadata": {
        "executionInfo": {
          "elapsed": 61,
          "status": "ok",
          "timestamp": 1753109263217,
          "user": {
            "displayName": "",
            "userId": ""
          },
          "user_tz": -60
        },
        "id": "ONduc-kwkYVv",
        "outputId": "dc7e29df-9851-4803-ff5f-1381b5deadef"
      },
      "outputs": [
        {
          "data": {
            "text/plain": [
              "(256, 4)"
            ]
          },
          "execution_count": 38,
          "metadata": {},
          "output_type": "execute_result"
        }
      ],
      "source": [
        "ism_result.shape"
      ]
    },
    {
      "cell_type": "markdown",
      "metadata": {
        "id": "Wj0VMFwCkYVv"
      },
      "source": [
        "Finally, we plot the contribution scores as a sequence logo:"
      ]
    },
    {
      "cell_type": "code",
      "execution_count": 39,
      "metadata": {
        "colab": {
          "height": 0
        },
        "executionInfo": {
          "elapsed": 4986,
          "status": "ok",
          "timestamp": 1753109268480,
          "user": {
            "displayName": "",
            "userId": ""
          },
          "user_tz": -60
        },
        "id": "0X9fwKw6kYVv",
        "outputId": "a21156c4-330a-4e5a-9284-24d8ed5e95f9"
      },
      "outputs": [
        {
          "data": {
            "image/png": "[encoded data removed]",
            "text/plain": [
              "\u003cFigure size 2520x72 with 1 Axes\u003e"
            ]
          },
          "metadata": {
            "image/png": {
              "height": 98,
              "width": 2084
            },
            "needs_background": "light"
          },
          "output_type": "display_data"
        }
      ],
      "source": [
        "plot_components.plot(\n",
        "    [\n",
        "        plot_components.SeqLogo(\n",
        "            scores=ism_result,\n",
        "            scores_interval=ism_interval,\n",
        "            ylabel='ISM K562 DNase',\n",
        "        )\n",
        "    ],\n",
        "    interval=ism_interval,\n",
        "    fig_width=35,\n",
        ")\n",
        "\n",
        "plt.show()"
      ]
    },
    {
      "cell_type": "markdown",
      "metadata": {
        "id": "Qkuuj1p7kYVv"
      },
      "source": [
        "This plot shows that the sequence between positions ~225 to ~240 has the strongest effect on predicted nearby DNAse in K562 cells.\n",
        "\n",
        "These contribution scores can be used to systematically discover motifs important for different modalities and cell types, find the transcription factors binding those motifs and map motif instances across the genome. Here are a few tools you can use to do this:\n",
        "- [tfmodisco-lite](https://github.com/jmschrei/tfmodisco-lite/)\n",
        "- [tangermeme](https://github.com/jmschrei/tangermeme)\n",
        "- [tomtom](https://meme-suite.org/meme/tools/tomtom)"
      ]
    },
    {
      "cell_type": "markdown",
      "metadata": {
        "id": "j6Vum-X6ILaz"
      },
      "source": [
        "## Making mouse predictions"
      ]
    },
    {
      "cell_type": "markdown",
      "metadata": {
        "id": "r-E-kEitg6ru"
      },
      "source": [
        "So far, this notebook has focused on predictions for human (`Organism.HOMO_SAPIENS`). To generate predictions for mouse, specify the organism as `Organism.MUS_MUSCULUS` instead. Please note that the supported ontology terms differ between species.\n",
        "\n",
        "The following example demonstrates how to call `predict_sequence` for mouse predictions:"
      ]
    },
    {
      "cell_type": "code",
      "execution_count": 40,
      "metadata": {
        "executionInfo": {
          "elapsed": 109,
          "status": "ok",
          "timestamp": 1753109268926,
          "user": {
            "displayName": "",
            "userId": ""
          },
          "user_tz": -60
        },
        "id": "QjFVRG1QLVba",
        "language": "python"
      },
      "outputs": [],
      "source": [
        "output = dna_model.predict_sequence(\n",
        "    sequence='GATTACA'.center(2048, 'N'),  # Pad to valid sequence length.\n",
        "    organism=dna_client.Organism.MUS_MUSCULUS,\n",
        "    requested_outputs=[dna_client.OutputType.DNASE],\n",
        "    ontology_terms=['UBERON:0002048'],  # Lung.\n",
        ")"
      ]
    },
    {
      "cell_type": "markdown",
      "metadata": {
        "id": "WwpupBP1hPgh"
      },
      "source": [
        "And here is an example of calling `predict_interval` for a mouse genomic interval:"
      ]
    },
    {
      "cell_type": "code",
      "execution_count": 41,
      "metadata": {
        "executionInfo": {
          "elapsed": 477,
          "status": "ok",
          "timestamp": 1753109269661,
          "user": {
            "displayName": "",
            "userId": ""
          },
          "user_tz": -60
        },
        "id": "lKOIZAtMLrEu",
        "outputId": "ab0bd2d2-022b-4b6e-ecf0-3d9e6598d375"
      },
      "outputs": [
        {
          "data": {
            "text/plain": [
              "(1048576, 3)"
            ]
          },
          "execution_count": 41,
          "metadata": {},
          "output_type": "execute_result"
        }
      ],
      "source": [
        "interval = genome.Interval('chr1', 3_000_000, 3_000_001).resize(\n",
        "    dna_client.SEQUENCE_LENGTH_1MB\n",
        ")\n",
        "\n",
        "output = dna_model.predict_interval(\n",
        "    interval=interval,\n",
        "    organism=dna_client.Organism.MUS_MUSCULUS,\n",
        "    requested_outputs=[dna_client.OutputType.RNA_SEQ],\n",
        "    ontology_terms=['UBERON:0002048'],  # Lung.\n",
        ")\n",
        "\n",
        "output.rna_seq.values.shape"
      ]
    },
    {
      "cell_type": "markdown",
      "metadata": {
        "id": "-1isDYNjkYVv"
      },
      "source": [
        "## Conclusion\n",
        "\n",
        "That's it for the quick start guide. To dive in further, check out our [other tutorials](https://www.alphagenomedocs.com/tutorials/index.html).\n"
      ]
    }
  ],
  "metadata": {
    "colab": {
      "last_runtime": {
        "build_target": "//third_party/py/AlphaGenome:colab",
        "kind": "private"
      },
      "provenance": [
        {
          "file_id": "1J99_hrY2DKzefpyiN_vG2cGkqT-2AvhK",
          "timestamp": 1727706471665
        }
      ],
      "toc_visible": true
    },
    "kernelspec": {
      "display_name": "Python 3",
      "name": "python3"
    },
    "language_info": {
      "name": "python"
    },
    "widgets": {
      "application/vnd.jupyter.widget-state+json": {
        "0354d25ab0d24f71b99c20e228f7b18e": {
          "model_module": "@jupyter-widgets/controls",
          "model_module_version": "1.5.0",
          "model_name": "HBoxModel",
          "state": {
            "_dom_classes": [],
            "_model_module": "@jupyter-widgets/controls",
            "_model_module_version": "1.5.0",
            "_model_name": "HBoxModel",
            "_view_count": null,
            "_view_module": "@jupyter-widgets/controls",
            "_view_module_version": "1.5.0",
            "_view_name": "HBoxView",
            "box_style": "",
            "children": [
              "IPY_MODEL_c5751f8a879041ffb139e25d5f48de26",
              "IPY_MODEL_234d97e4ab454d9691daad9e70377bdc",
              "IPY_MODEL_2187ba8d183e46e28d52ee123d443e3c"
            ],
            "layout": "IPY_MODEL_1079971cb0ec437cbd25da6c9f2ee0fe"
          }
        },
        "06563d7e48174cf088bd5ab15b08b9fa": {
          "model_module": "@jupyter-widgets/base",
          "model_module_version": "1.2.0",
          "model_name": "LayoutModel",
          "state": {
            "_model_module": "@jupyter-widgets/base",
            "_model_module_version": "1.2.0",
            "_model_name": "LayoutModel",
            "_view_count": null,
            "_view_module": "@jupyter-widgets/base",
            "_view_module_version": "1.2.0",
            "_view_name": "LayoutView",
            "align_content": null,
            "align_items": null,
            "align_self": null,
            "border": null,
            "bottom": null,
            "display": null,
            "flex": null,
            "flex_flow": null,
            "grid_area": null,
            "grid_auto_columns": null,
            "grid_auto_flow": null,
            "grid_auto_rows": null,
            "grid_column": null,
            "grid_gap": null,
            "grid_row": null,
            "grid_template_areas": null,
            "grid_template_columns": null,
            "grid_template_rows": null,
            "height": null,
            "justify_content": null,
            "justify_items": null,
            "left": null,
            "margin": null,
            "max_height": null,
            "max_width": null,
            "min_height": null,
            "min_width": null,
            "object_fit": null,
            "object_position": null,
            "order": null,
            "overflow": null,
            "overflow_x": null,
            "overflow_y": null,
            "padding": null,
            "right": null,
            "top": null,
            "visibility": null,
            "width": null
          }
        },
        "1079971cb0ec437cbd25da6c9f2ee0fe": {
          "model_module": "@jupyter-widgets/base",
          "model_module_version": "1.2.0",
          "model_name": "LayoutModel",
          "state": {
            "_model_module": "@jupyter-widgets/base",
            "_model_module_version": "1.2.0",
            "_model_name": "LayoutModel",
            "_view_count": null,
            "_view_module": "@jupyter-widgets/base",
            "_view_module_version": "1.2.0",
            "_view_name": "LayoutView",
            "align_content": null,
            "align_items": null,
            "align_self": null,
            "border": null,
            "bottom": null,
            "display": null,
            "flex": null,
            "flex_flow": null,
            "grid_area": null,
            "grid_auto_columns": null,
            "grid_auto_flow": null,
            "grid_auto_rows": null,
            "grid_column": null,
            "grid_gap": null,
            "grid_row": null,
            "grid_template_areas": null,
            "grid_template_columns": null,
            "grid_template_rows": null,
            "height": null,
            "justify_content": null,
            "justify_items": null,
            "left": null,
            "margin": null,
            "max_height": null,
            "max_width": null,
            "min_height": null,
            "min_width": null,
            "object_fit": null,
            "object_position": null,
            "order": null,
            "overflow": null,
            "overflow_x": null,
            "overflow_y": null,
            "padding": null,
            "right": null,
            "top": null,
            "visibility": null,
            "width": null
          }
        },
        "2187ba8d183e46e28d52ee123d443e3c": {
          "model_module": "@jupyter-widgets/controls",
          "model_module_version": "1.5.0",
          "model_name": "HTMLModel",
          "state": {
            "_dom_classes": [],
            "_model_module": "@jupyter-widgets/controls",
            "_model_module_version": "1.5.0",
            "_model_name": "HTMLModel",
            "_view_count": null,
            "_view_module": "@jupyter-widgets/controls",
            "_view_module_version": "1.5.0",
            "_view_name": "HTMLView",
            "description": "",
            "description_tooltip": null,
            "layout": "IPY_MODEL_ba1681af922446c496562561ddf083d4",
            "placeholder": "​",
            "style": "IPY_MODEL_e321c066d6f64f368d49f86a51aa144b",
            "value": " 26/26 [00:08\u0026lt;00:00,  4.64it/s]"
          }
        },
        "234d97e4ab454d9691daad9e70377bdc": {
          "model_module": "@jupyter-widgets/controls",
          "model_module_version": "1.5.0",
          "model_name": "FloatProgressModel",
          "state": {
            "_dom_classes": [],
            "_model_module": "@jupyter-widgets/controls",
            "_model_module_version": "1.5.0",
            "_model_name": "FloatProgressModel",
            "_view_count": null,
            "_view_module": "@jupyter-widgets/controls",
            "_view_module_version": "1.5.0",
            "_view_name": "ProgressView",
            "bar_style": "success",
            "description": "",
            "description_tooltip": null,
            "layout": "IPY_MODEL_fcc5e13d5c6d4aa3b8d7d72a7f9b2619",
            "max": 26,
            "min": 0,
            "orientation": "horizontal",
            "style": "IPY_MODEL_26ddc667cae948e0ad07fa04e97f341d",
            "value": 26
          }
        },
        "26ddc667cae948e0ad07fa04e97f341d": {
          "model_module": "@jupyter-widgets/controls",
          "model_module_version": "1.5.0",
          "model_name": "ProgressStyleModel",
          "state": {
            "_model_module": "@jupyter-widgets/controls",
            "_model_module_version": "1.5.0",
            "_model_name": "ProgressStyleModel",
            "_view_count": null,
            "_view_module": "@jupyter-widgets/base",
            "_view_module_version": "1.2.0",
            "_view_name": "StyleView",
            "bar_color": null,
            "description_width": ""
          }
        },
        "5936b4389b7a4ae48e53428fe6d1afa3": {
          "model_module": "@jupyter-widgets/controls",
          "model_module_version": "1.5.0",
          "model_name": "DescriptionStyleModel",
          "state": {
            "_model_module": "@jupyter-widgets/controls",
            "_model_module_version": "1.5.0",
            "_model_name": "DescriptionStyleModel",
            "_view_count": null,
            "_view_module": "@jupyter-widgets/base",
            "_view_module_version": "1.2.0",
            "_view_name": "StyleView",
            "description_width": ""
          }
        },
        "ba1681af922446c496562561ddf083d4": {
          "model_module": "@jupyter-widgets/base",
          "model_module_version": "1.2.0",
          "model_name": "LayoutModel",
          "state": {
            "_model_module": "@jupyter-widgets/base",
            "_model_module_version": "1.2.0",
            "_model_name": "LayoutModel",
            "_view_count": null,
            "_view_module": "@jupyter-widgets/base",
            "_view_module_version": "1.2.0",
            "_view_name": "LayoutView",
            "align_content": null,
            "align_items": null,
            "align_self": null,
            "border": null,
            "bottom": null,
            "display": null,
            "flex": null,
            "flex_flow": null,
            "grid_area": null,
            "grid_auto_columns": null,
            "grid_auto_flow": null,
            "grid_auto_rows": null,
            "grid_column": null,
            "grid_gap": null,
            "grid_row": null,
            "grid_template_areas": null,
            "grid_template_columns": null,
            "grid_template_rows": null,
            "height": null,
            "justify_content": null,
            "justify_items": null,
            "left": null,
            "margin": null,
            "max_height": null,
            "max_width": null,
            "min_height": null,
            "min_width": null,
            "object_fit": null,
            "object_position": null,
            "order": null,
            "overflow": null,
            "overflow_x": null,
            "overflow_y": null,
            "padding": null,
            "right": null,
            "top": null,
            "visibility": null,
            "width": null
          }
        },
        "c5751f8a879041ffb139e25d5f48de26": {
          "model_module": "@jupyter-widgets/controls",
          "model_module_version": "1.5.0",
          "model_name": "HTMLModel",
          "state": {
            "_dom_classes": [],
            "_model_module": "@jupyter-widgets/controls",
            "_model_module_version": "1.5.0",
            "_model_name": "HTMLModel",
            "_view_count": null,
            "_view_module": "@jupyter-widgets/controls",
            "_view_module_version": "1.5.0",
            "_view_name": "HTMLView",
            "description": "",
            "description_tooltip": null,
            "layout": "IPY_MODEL_06563d7e48174cf088bd5ab15b08b9fa",
            "placeholder": "​",
            "style": "IPY_MODEL_5936b4389b7a4ae48e53428fe6d1afa3",
            "value": "100%"
          }
        },
        "e321c066d6f64f368d49f86a51aa144b": {
          "model_module": "@jupyter-widgets/controls",
          "model_module_version": "1.5.0",
          "model_name": "DescriptionStyleModel",
          "state": {
            "_model_module": "@jupyter-widgets/controls",
            "_model_module_version": "1.5.0",
            "_model_name": "DescriptionStyleModel",
            "_view_count": null,
            "_view_module": "@jupyter-widgets/base",
            "_view_module_version": "1.2.0",
            "_view_name": "StyleView",
            "description_width": ""
          }
        },
        "fcc5e13d5c6d4aa3b8d7d72a7f9b2619": {
          "model_module": "@jupyter-widgets/base",
          "model_module_version": "1.2.0",
          "model_name": "LayoutModel",
          "state": {
            "_model_module": "@jupyter-widgets/base",
            "_model_module_version": "1.2.0",
            "_model_name": "LayoutModel",
            "_view_count": null,
            "_view_module": "@jupyter-widgets/base",
            "_view_module_version": "1.2.0",
            "_view_name": "LayoutView",
            "align_content": null,
            "align_items": null,
            "align_self": null,
            "border": null,
            "bottom": null,
            "display": null,
            "flex": null,
            "flex_flow": null,
            "grid_area": null,
            "grid_auto_columns": null,
            "grid_auto_flow": null,
            "grid_auto_rows": null,
            "grid_column": null,
            "grid_gap": null,
            "grid_row": null,
            "grid_template_areas": null,
            "grid_template_columns": null,
            "grid_template_rows": null,
            "height": null,
            "justify_content": null,
            "justify_items": null,
            "left": null,
            "margin": null,
            "max_height": null,
            "max_width": null,
            "min_height": null,
            "min_width": null,
            "object_fit": null,
            "object_position": null,
            "order": null,
            "overflow": null,
            "overflow_x": null,
            "overflow_y": null,
            "padding": null,
            "right": null,
            "top": null,
            "visibility": null,
            "width": null
          }
        }
      }
    }
  },
  "nbformat": 4,
  "nbformat_minor": 0
}
